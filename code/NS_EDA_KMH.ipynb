{
 "cells": [
  {
   "cell_type": "code",
   "execution_count": 1,
   "metadata": {},
   "outputs": [],
   "source": [
    "import warnings\n",
    "warnings.filterwarnings(action='ignore')"
   ]
  },
  {
   "cell_type": "code",
   "execution_count": 2,
   "metadata": {},
   "outputs": [],
   "source": [
    "import pandas as pd\n",
    "import numpy as np"
   ]
  },
  {
   "cell_type": "code",
   "execution_count": 3,
   "metadata": {},
   "outputs": [],
   "source": [
    "data1 = pd.read_excel('NS_reven.xlsx', 'rawdata_2019(완)', index=False)\n",
    "data2 = pd.read_excel('NS_rate.xlsx', '시간대', index=False)"
   ]
  },
  {
   "cell_type": "code",
   "execution_count": 4,
   "metadata": {},
   "outputs": [
    {
     "data": {
      "text/html": [
       "<div>\n",
       "<style scoped>\n",
       "    .dataframe tbody tr th:only-of-type {\n",
       "        vertical-align: middle;\n",
       "    }\n",
       "\n",
       "    .dataframe tbody tr th {\n",
       "        vertical-align: top;\n",
       "    }\n",
       "\n",
       "    .dataframe thead th {\n",
       "        text-align: right;\n",
       "    }\n",
       "</style>\n",
       "<table border=\"1\" class=\"dataframe\">\n",
       "  <thead>\n",
       "    <tr style=\"text-align: right;\">\n",
       "      <th></th>\n",
       "      <th>시간대</th>\n",
       "      <th>2019-01-01</th>\n",
       "      <th>2019-01-02</th>\n",
       "      <th>2019-01-03</th>\n",
       "      <th>2019-01-04</th>\n",
       "      <th>2019-01-05</th>\n",
       "      <th>2019-01-06</th>\n",
       "      <th>2019-01-07</th>\n",
       "      <th>2019-01-08</th>\n",
       "      <th>2019-01-09</th>\n",
       "      <th>...</th>\n",
       "      <th>2019-12-23</th>\n",
       "      <th>2019-12-24</th>\n",
       "      <th>2019-12-25</th>\n",
       "      <th>2019-12-26</th>\n",
       "      <th>2019-12-27</th>\n",
       "      <th>2019-12-28</th>\n",
       "      <th>2019-12-29</th>\n",
       "      <th>2019-12-30</th>\n",
       "      <th>2019-12-31</th>\n",
       "      <th>2019-01-01 to 2019-12-31</th>\n",
       "    </tr>\n",
       "  </thead>\n",
       "  <tbody>\n",
       "    <tr>\n",
       "      <th>1</th>\n",
       "      <td>02:00</td>\n",
       "      <td>0</td>\n",
       "      <td>0</td>\n",
       "      <td>0</td>\n",
       "      <td>0</td>\n",
       "      <td>0</td>\n",
       "      <td>0</td>\n",
       "      <td>0</td>\n",
       "      <td>0</td>\n",
       "      <td>0</td>\n",
       "      <td>...</td>\n",
       "      <td>0</td>\n",
       "      <td>0</td>\n",
       "      <td>0</td>\n",
       "      <td>0</td>\n",
       "      <td>0</td>\n",
       "      <td>0</td>\n",
       "      <td>0</td>\n",
       "      <td>0</td>\n",
       "      <td>0</td>\n",
       "      <td>0.003</td>\n",
       "    </tr>\n",
       "    <tr>\n",
       "      <th>2</th>\n",
       "      <td>02:01</td>\n",
       "      <td>0</td>\n",
       "      <td>0</td>\n",
       "      <td>0</td>\n",
       "      <td>0</td>\n",
       "      <td>0</td>\n",
       "      <td>0</td>\n",
       "      <td>0</td>\n",
       "      <td>0</td>\n",
       "      <td>0</td>\n",
       "      <td>...</td>\n",
       "      <td>0</td>\n",
       "      <td>0</td>\n",
       "      <td>0</td>\n",
       "      <td>0</td>\n",
       "      <td>0</td>\n",
       "      <td>0</td>\n",
       "      <td>0</td>\n",
       "      <td>0</td>\n",
       "      <td>0.012</td>\n",
       "      <td>0.003</td>\n",
       "    </tr>\n",
       "    <tr>\n",
       "      <th>3</th>\n",
       "      <td>02:02</td>\n",
       "      <td>0</td>\n",
       "      <td>0</td>\n",
       "      <td>0</td>\n",
       "      <td>0</td>\n",
       "      <td>0</td>\n",
       "      <td>0</td>\n",
       "      <td>0</td>\n",
       "      <td>0</td>\n",
       "      <td>0</td>\n",
       "      <td>...</td>\n",
       "      <td>0</td>\n",
       "      <td>0</td>\n",
       "      <td>0</td>\n",
       "      <td>0</td>\n",
       "      <td>0</td>\n",
       "      <td>0</td>\n",
       "      <td>0</td>\n",
       "      <td>0</td>\n",
       "      <td>0</td>\n",
       "      <td>0.004</td>\n",
       "    </tr>\n",
       "    <tr>\n",
       "      <th>4</th>\n",
       "      <td>02:03</td>\n",
       "      <td>0</td>\n",
       "      <td>0</td>\n",
       "      <td>0.014</td>\n",
       "      <td>0</td>\n",
       "      <td>0</td>\n",
       "      <td>0</td>\n",
       "      <td>0</td>\n",
       "      <td>0</td>\n",
       "      <td>0</td>\n",
       "      <td>...</td>\n",
       "      <td>0</td>\n",
       "      <td>0</td>\n",
       "      <td>0.017</td>\n",
       "      <td>0</td>\n",
       "      <td>0</td>\n",
       "      <td>0</td>\n",
       "      <td>0</td>\n",
       "      <td>0</td>\n",
       "      <td>0</td>\n",
       "      <td>0.004</td>\n",
       "    </tr>\n",
       "    <tr>\n",
       "      <th>5</th>\n",
       "      <td>02:04</td>\n",
       "      <td>0</td>\n",
       "      <td>0</td>\n",
       "      <td>0</td>\n",
       "      <td>0</td>\n",
       "      <td>0</td>\n",
       "      <td>0</td>\n",
       "      <td>0</td>\n",
       "      <td>0</td>\n",
       "      <td>0</td>\n",
       "      <td>...</td>\n",
       "      <td>0</td>\n",
       "      <td>0</td>\n",
       "      <td>0.017</td>\n",
       "      <td>0</td>\n",
       "      <td>0</td>\n",
       "      <td>0</td>\n",
       "      <td>0</td>\n",
       "      <td>0</td>\n",
       "      <td>0</td>\n",
       "      <td>0.004</td>\n",
       "    </tr>\n",
       "  </tbody>\n",
       "</table>\n",
       "<p>5 rows × 367 columns</p>\n",
       "</div>"
      ],
      "text/plain": [
       "     시간대 2019-01-01 2019-01-02 2019-01-03 2019-01-04 2019-01-05 2019-01-06  \\\n",
       "1  02:00          0          0          0          0          0          0   \n",
       "2  02:01          0          0          0          0          0          0   \n",
       "3  02:02          0          0          0          0          0          0   \n",
       "4  02:03          0          0      0.014          0          0          0   \n",
       "5  02:04          0          0          0          0          0          0   \n",
       "\n",
       "  2019-01-07 2019-01-08 2019-01-09  ... 2019-12-23 2019-12-24 2019-12-25  \\\n",
       "1          0          0          0  ...          0          0          0   \n",
       "2          0          0          0  ...          0          0          0   \n",
       "3          0          0          0  ...          0          0          0   \n",
       "4          0          0          0  ...          0          0      0.017   \n",
       "5          0          0          0  ...          0          0      0.017   \n",
       "\n",
       "  2019-12-26 2019-12-27 2019-12-28 2019-12-29 2019-12-30 2019-12-31  \\\n",
       "1          0          0          0          0          0          0   \n",
       "2          0          0          0          0          0      0.012   \n",
       "3          0          0          0          0          0          0   \n",
       "4          0          0          0          0          0          0   \n",
       "5          0          0          0          0          0          0   \n",
       "\n",
       "  2019-01-01 to 2019-12-31  \n",
       "1                    0.003  \n",
       "2                    0.003  \n",
       "3                    0.004  \n",
       "4                    0.004  \n",
       "5                    0.004  \n",
       "\n",
       "[5 rows x 367 columns]"
      ]
     },
     "execution_count": 4,
     "metadata": {},
     "output_type": "execute_result"
    }
   ],
   "source": [
    "ns_rev = data1.rename(columns=data1.iloc[0])\n",
    "NS_rev = ns_rev.drop(ns_rev.index[0])\n",
    "ns_rate = data2.rename(columns=data2.iloc[0])\n",
    "NS_rate = ns_rate.drop(ns_rate.index[0])\n",
    "\n",
    "NS_rate.head()"
   ]
  },
  {
   "cell_type": "code",
   "execution_count": 5,
   "metadata": {},
   "outputs": [
    {
     "data": {
      "text/html": [
       "<div>\n",
       "<style scoped>\n",
       "    .dataframe tbody tr th:only-of-type {\n",
       "        vertical-align: middle;\n",
       "    }\n",
       "\n",
       "    .dataframe tbody tr th {\n",
       "        vertical-align: top;\n",
       "    }\n",
       "\n",
       "    .dataframe thead th {\n",
       "        text-align: right;\n",
       "    }\n",
       "</style>\n",
       "<table border=\"1\" class=\"dataframe\">\n",
       "  <thead>\n",
       "    <tr style=\"text-align: right;\">\n",
       "      <th></th>\n",
       "      <th>방송일시</th>\n",
       "      <th>노출(분)</th>\n",
       "      <th>마더코드</th>\n",
       "      <th>상품코드</th>\n",
       "      <th>상품명</th>\n",
       "      <th>상품군</th>\n",
       "      <th>판매단가</th>\n",
       "      <th>취급액</th>\n",
       "    </tr>\n",
       "  </thead>\n",
       "  <tbody>\n",
       "    <tr>\n",
       "      <th>1</th>\n",
       "      <td>2019-01-01 06:00:00</td>\n",
       "      <td>20</td>\n",
       "      <td>100346</td>\n",
       "      <td>201072</td>\n",
       "      <td>테이트 남성 셀린니트3종</td>\n",
       "      <td>의류</td>\n",
       "      <td>39900</td>\n",
       "      <td>2099000</td>\n",
       "    </tr>\n",
       "    <tr>\n",
       "      <th>2</th>\n",
       "      <td>2019-01-01 06:00:00</td>\n",
       "      <td>NaN</td>\n",
       "      <td>100346</td>\n",
       "      <td>201079</td>\n",
       "      <td>테이트 여성 셀린니트3종</td>\n",
       "      <td>의류</td>\n",
       "      <td>39900</td>\n",
       "      <td>4371000</td>\n",
       "    </tr>\n",
       "    <tr>\n",
       "      <th>3</th>\n",
       "      <td>2019-01-01 06:20:00</td>\n",
       "      <td>20</td>\n",
       "      <td>100346</td>\n",
       "      <td>201072</td>\n",
       "      <td>테이트 남성 셀린니트3종</td>\n",
       "      <td>의류</td>\n",
       "      <td>39900</td>\n",
       "      <td>3262000</td>\n",
       "    </tr>\n",
       "    <tr>\n",
       "      <th>4</th>\n",
       "      <td>2019-01-01 06:20:00</td>\n",
       "      <td>NaN</td>\n",
       "      <td>100346</td>\n",
       "      <td>201079</td>\n",
       "      <td>테이트 여성 셀린니트3종</td>\n",
       "      <td>의류</td>\n",
       "      <td>39900</td>\n",
       "      <td>6955000</td>\n",
       "    </tr>\n",
       "    <tr>\n",
       "      <th>5</th>\n",
       "      <td>2019-01-01 06:40:00</td>\n",
       "      <td>20</td>\n",
       "      <td>100346</td>\n",
       "      <td>201072</td>\n",
       "      <td>테이트 남성 셀린니트3종</td>\n",
       "      <td>의류</td>\n",
       "      <td>39900</td>\n",
       "      <td>6672000</td>\n",
       "    </tr>\n",
       "  </tbody>\n",
       "</table>\n",
       "</div>"
      ],
      "text/plain": [
       "                 방송일시 노출(분)    마더코드    상품코드            상품명 상품군   판매단가      취급액\n",
       "1 2019-01-01 06:00:00    20  100346  201072  테이트 남성 셀린니트3종  의류  39900  2099000\n",
       "2 2019-01-01 06:00:00   NaN  100346  201079  테이트 여성 셀린니트3종  의류  39900  4371000\n",
       "3 2019-01-01 06:20:00    20  100346  201072  테이트 남성 셀린니트3종  의류  39900  3262000\n",
       "4 2019-01-01 06:20:00   NaN  100346  201079  테이트 여성 셀린니트3종  의류  39900  6955000\n",
       "5 2019-01-01 06:40:00    20  100346  201072  테이트 남성 셀린니트3종  의류  39900  6672000"
      ]
     },
     "execution_count": 5,
     "metadata": {},
     "output_type": "execute_result"
    }
   ],
   "source": [
    "NS_rev[\"방송일시\"] = pd.to_datetime(NS_rev[\"방송일시\"])\n",
    "NS_rev.head()"
   ]
  },
  {
   "cell_type": "code",
   "execution_count": 6,
   "metadata": {
    "scrolled": false
   },
   "outputs": [
    {
     "data": {
      "text/html": [
       "<div>\n",
       "<style scoped>\n",
       "    .dataframe tbody tr th:only-of-type {\n",
       "        vertical-align: middle;\n",
       "    }\n",
       "\n",
       "    .dataframe tbody tr th {\n",
       "        vertical-align: top;\n",
       "    }\n",
       "\n",
       "    .dataframe thead th {\n",
       "        text-align: right;\n",
       "    }\n",
       "</style>\n",
       "<table border=\"1\" class=\"dataframe\">\n",
       "  <thead>\n",
       "    <tr style=\"text-align: right;\">\n",
       "      <th></th>\n",
       "      <th>방송일시</th>\n",
       "      <th>노출(분)</th>\n",
       "      <th>마더코드</th>\n",
       "      <th>상품코드</th>\n",
       "      <th>상품명</th>\n",
       "      <th>상품군</th>\n",
       "      <th>판매단가</th>\n",
       "      <th>취급액</th>\n",
       "      <th>month</th>\n",
       "      <th>day_of_month</th>\n",
       "      <th>day_of_week</th>\n",
       "      <th>time</th>\n",
       "      <th>hour</th>\n",
       "      <th>minute</th>\n",
       "    </tr>\n",
       "  </thead>\n",
       "  <tbody>\n",
       "    <tr>\n",
       "      <th>1</th>\n",
       "      <td>2019-01-01 06:00:00</td>\n",
       "      <td>20</td>\n",
       "      <td>100346</td>\n",
       "      <td>201072</td>\n",
       "      <td>테이트 남성 셀린니트3종</td>\n",
       "      <td>의류</td>\n",
       "      <td>39900</td>\n",
       "      <td>2099000</td>\n",
       "      <td>1</td>\n",
       "      <td>1</td>\n",
       "      <td>1</td>\n",
       "      <td>06:00:00</td>\n",
       "      <td>6</td>\n",
       "      <td>0</td>\n",
       "    </tr>\n",
       "    <tr>\n",
       "      <th>2</th>\n",
       "      <td>2019-01-01 06:00:00</td>\n",
       "      <td>NaN</td>\n",
       "      <td>100346</td>\n",
       "      <td>201079</td>\n",
       "      <td>테이트 여성 셀린니트3종</td>\n",
       "      <td>의류</td>\n",
       "      <td>39900</td>\n",
       "      <td>4371000</td>\n",
       "      <td>1</td>\n",
       "      <td>1</td>\n",
       "      <td>1</td>\n",
       "      <td>06:00:00</td>\n",
       "      <td>6</td>\n",
       "      <td>0</td>\n",
       "    </tr>\n",
       "    <tr>\n",
       "      <th>3</th>\n",
       "      <td>2019-01-01 06:20:00</td>\n",
       "      <td>20</td>\n",
       "      <td>100346</td>\n",
       "      <td>201072</td>\n",
       "      <td>테이트 남성 셀린니트3종</td>\n",
       "      <td>의류</td>\n",
       "      <td>39900</td>\n",
       "      <td>3262000</td>\n",
       "      <td>1</td>\n",
       "      <td>1</td>\n",
       "      <td>1</td>\n",
       "      <td>06:20:00</td>\n",
       "      <td>6</td>\n",
       "      <td>20</td>\n",
       "    </tr>\n",
       "    <tr>\n",
       "      <th>4</th>\n",
       "      <td>2019-01-01 06:20:00</td>\n",
       "      <td>NaN</td>\n",
       "      <td>100346</td>\n",
       "      <td>201079</td>\n",
       "      <td>테이트 여성 셀린니트3종</td>\n",
       "      <td>의류</td>\n",
       "      <td>39900</td>\n",
       "      <td>6955000</td>\n",
       "      <td>1</td>\n",
       "      <td>1</td>\n",
       "      <td>1</td>\n",
       "      <td>06:20:00</td>\n",
       "      <td>6</td>\n",
       "      <td>20</td>\n",
       "    </tr>\n",
       "    <tr>\n",
       "      <th>5</th>\n",
       "      <td>2019-01-01 06:40:00</td>\n",
       "      <td>20</td>\n",
       "      <td>100346</td>\n",
       "      <td>201072</td>\n",
       "      <td>테이트 남성 셀린니트3종</td>\n",
       "      <td>의류</td>\n",
       "      <td>39900</td>\n",
       "      <td>6672000</td>\n",
       "      <td>1</td>\n",
       "      <td>1</td>\n",
       "      <td>1</td>\n",
       "      <td>06:40:00</td>\n",
       "      <td>6</td>\n",
       "      <td>40</td>\n",
       "    </tr>\n",
       "  </tbody>\n",
       "</table>\n",
       "</div>"
      ],
      "text/plain": [
       "                 방송일시 노출(분)    마더코드    상품코드            상품명 상품군   판매단가  \\\n",
       "1 2019-01-01 06:00:00    20  100346  201072  테이트 남성 셀린니트3종  의류  39900   \n",
       "2 2019-01-01 06:00:00   NaN  100346  201079  테이트 여성 셀린니트3종  의류  39900   \n",
       "3 2019-01-01 06:20:00    20  100346  201072  테이트 남성 셀린니트3종  의류  39900   \n",
       "4 2019-01-01 06:20:00   NaN  100346  201079  테이트 여성 셀린니트3종  의류  39900   \n",
       "5 2019-01-01 06:40:00    20  100346  201072  테이트 남성 셀린니트3종  의류  39900   \n",
       "\n",
       "       취급액  month  day_of_month  day_of_week      time  hour  minute  \n",
       "1  2099000      1             1            1  06:00:00     6       0  \n",
       "2  4371000      1             1            1  06:00:00     6       0  \n",
       "3  3262000      1             1            1  06:20:00     6      20  \n",
       "4  6955000      1             1            1  06:20:00     6      20  \n",
       "5  6672000      1             1            1  06:40:00     6      40  "
      ]
     },
     "execution_count": 6,
     "metadata": {},
     "output_type": "execute_result"
    }
   ],
   "source": [
    "\n",
    "NS_rev[\"month\"] = NS_rev['방송일시'].dt.month\n",
    "NS_rev[\"day_of_month\"] = NS_rev['방송일시'].dt.day\n",
    "NS_rev[\"day_of_week\"]  = NS_rev['방송일시'].dt.dayofweek\n",
    "NS_rev[\"time\"] = NS_rev['방송일시'].dt.time\n",
    "NS_rev[\"hour\"] = NS_rev['방송일시'].dt.hour\n",
    "NS_rev[\"minute\"] = NS_rev['방송일시'].dt.minute\n",
    "\n",
    "NS_rev.head()"
   ]
  },
  {
   "cell_type": "markdown",
   "metadata": {},
   "source": [
    "---"
   ]
  },
  {
   "cell_type": "markdown",
   "metadata": {},
   "source": [
    "## Data 형태 확인"
   ]
  },
  {
   "cell_type": "code",
   "execution_count": 7,
   "metadata": {},
   "outputs": [
    {
     "data": {
      "text/plain": [
       "(38309, 14)"
      ]
     },
     "execution_count": 7,
     "metadata": {},
     "output_type": "execute_result"
    }
   ],
   "source": [
    "NS_rev.shape"
   ]
  },
  {
   "cell_type": "code",
   "execution_count": 8,
   "metadata": {},
   "outputs": [
    {
     "name": "stdout",
     "output_type": "stream",
     "text": [
      "<class 'pandas.core.frame.DataFrame'>\n",
      "Int64Index: 38309 entries, 1 to 38309\n",
      "Data columns (total 14 columns):\n",
      " #   Column        Non-Null Count  Dtype         \n",
      "---  ------        --------------  -----         \n",
      " 0   방송일시          38309 non-null  datetime64[ns]\n",
      " 1   노출(분)         21525 non-null  object        \n",
      " 2   마더코드          38309 non-null  object        \n",
      " 3   상품코드          38309 non-null  object        \n",
      " 4   상품명           38309 non-null  object        \n",
      " 5   상품군           38309 non-null  object        \n",
      " 6   판매단가          38309 non-null  object        \n",
      " 7   취급액           37372 non-null  object        \n",
      " 8   month         38309 non-null  int64         \n",
      " 9   day_of_month  38309 non-null  int64         \n",
      " 10  day_of_week   38309 non-null  int64         \n",
      " 11  time          38309 non-null  object        \n",
      " 12  hour          38309 non-null  int64         \n",
      " 13  minute        38309 non-null  int64         \n",
      "dtypes: datetime64[ns](1), int64(5), object(8)\n",
      "memory usage: 4.4+ MB\n"
     ]
    }
   ],
   "source": [
    "NS_rev.info()"
   ]
  },
  {
   "cell_type": "markdown",
   "metadata": {},
   "source": [
    "새로 추가한 datetime 열들을 제외하면 모두 명목형 > 전처리를 거친 후 판매단가/취급액은 숫자형으로 바꿀 필요가 있음"
   ]
  },
  {
   "cell_type": "code",
   "execution_count": 9,
   "metadata": {},
   "outputs": [
    {
     "data": {
      "text/plain": [
       "(1441, 367)"
      ]
     },
     "execution_count": 9,
     "metadata": {},
     "output_type": "execute_result"
    }
   ],
   "source": [
    "NS_rate.shape"
   ]
  },
  {
   "cell_type": "code",
   "execution_count": 10,
   "metadata": {},
   "outputs": [
    {
     "name": "stdout",
     "output_type": "stream",
     "text": [
      "<class 'pandas.core.frame.DataFrame'>\n",
      "Int64Index: 1441 entries, 1 to 1441\n",
      "Columns: 367 entries, 시간대 to 2019-01-01 to 2019-12-31\n",
      "dtypes: object(367)\n",
      "memory usage: 4.0+ MB\n"
     ]
    }
   ],
   "source": [
    "NS_rate.info()"
   ]
  },
  {
   "cell_type": "code",
   "execution_count": 11,
   "metadata": {},
   "outputs": [
    {
     "data": {
      "text/plain": [
       "방송일시                0\n",
       "노출(분)           16784\n",
       "마더코드                0\n",
       "상품코드                0\n",
       "상품명                 0\n",
       "상품군                 0\n",
       "판매단가                0\n",
       "취급액               937\n",
       "month               0\n",
       "day_of_month        0\n",
       "day_of_week         0\n",
       "time                0\n",
       "hour                0\n",
       "minute              0\n",
       "dtype: int64"
      ]
     },
     "execution_count": 11,
     "metadata": {},
     "output_type": "execute_result"
    }
   ],
   "source": [
    "NS_rev.isnull().sum()"
   ]
  },
  {
   "cell_type": "code",
   "execution_count": 12,
   "metadata": {},
   "outputs": [
    {
     "data": {
      "text/plain": [
       "0"
      ]
     },
     "execution_count": 12,
     "metadata": {},
     "output_type": "execute_result"
    }
   ],
   "source": [
    "np.sum((NS_rate.isna().sum()!=0))"
   ]
  },
  {
   "cell_type": "markdown",
   "metadata": {},
   "source": [
    "실적 데이터에서 NA 값들이 상당히 많다  \n",
    "취급액 중 NA값들은 판매단가가 0인 무형 상품들 (여행 상품, 렌탈 서비스, 핸드폰)  \n",
    "유의 사항에 이 항목들은 추정에서 제외시킨다 하니 모델링 과정에서도 제외해도 될 듯  \n",
    "마찬가지로 토요일 18:00~18:20 역시 정보 방송 시간으로 제외 (raw data에서도 공백)  "
   ]
  },
  {
   "cell_type": "markdown",
   "metadata": {},
   "source": [
    "* timestamp 별로 새로운 열 생성  \n",
    "* 노출 시간의 NA 값들은 다음 행과 해당 행의 시간차로 확인됨  \n",
    "* 또는 같은 시간대에 여러 제품을 판매한다면 대표 행 외 나머지 행의 노출 시간은 NA로 표시  \n",
    "* 노출 시간은 대부분 20분이지만, 가끔 30분인 경우가 존재하므로, imputation을 두가지 방법으로 해야 할 것 같음\n",
    "* 같은 시간대에도 비슷한 제품 여러개를 판매하는 경우 시간대가 중복되고, 상품명만 달리 표시됨 (마더코드 동일, 상품코드 상이)\n"
   ]
  },
  {
   "cell_type": "markdown",
   "metadata": {},
   "source": [
    "---"
   ]
  },
  {
   "cell_type": "markdown",
   "metadata": {},
   "source": [
    "## NA Handling \n",
    "#### 제거 가능한 것들만 / imputation은 추후에"
   ]
  },
  {
   "cell_type": "code",
   "execution_count": 13,
   "metadata": {},
   "outputs": [
    {
     "data": {
      "text/plain": [
       "방송일시                0\n",
       "노출(분)           16784\n",
       "마더코드                0\n",
       "상품코드                0\n",
       "상품명                 0\n",
       "상품군                 0\n",
       "판매단가                0\n",
       "취급액                 0\n",
       "month               0\n",
       "day_of_month        0\n",
       "day_of_week         0\n",
       "time                0\n",
       "hour                0\n",
       "minute              0\n",
       "dtype: int64"
      ]
     },
     "execution_count": 13,
     "metadata": {},
     "output_type": "execute_result"
    }
   ],
   "source": [
    "NS_rev = NS_rev[NS_rev['취급액'].notnull()]\n",
    "NS_rev.isnull().sum()"
   ]
  },
  {
   "cell_type": "code",
   "execution_count": 14,
   "metadata": {},
   "outputs": [
    {
     "data": {
      "text/plain": [
       "(37372, 14)"
      ]
     },
     "execution_count": 14,
     "metadata": {},
     "output_type": "execute_result"
    }
   ],
   "source": [
    "NS_rev.shape"
   ]
  },
  {
   "cell_type": "markdown",
   "metadata": {},
   "source": [
    "---"
   ]
  },
  {
   "cell_type": "markdown",
   "metadata": {},
   "source": [
    "## 분포 시각화"
   ]
  },
  {
   "cell_type": "code",
   "execution_count": 15,
   "metadata": {},
   "outputs": [],
   "source": [
    "import seaborn as sns\n",
    "import matplotlib.pyplot as plt\n",
    "import matplotlib as mpl"
   ]
  },
  {
   "cell_type": "markdown",
   "metadata": {},
   "source": [
    "### 노출(분)"
   ]
  },
  {
   "cell_type": "code",
   "execution_count": 16,
   "metadata": {
    "scrolled": true
   },
   "outputs": [
    {
     "data": {
      "text/plain": [
       "1        20.0\n",
       "3        20.0\n",
       "5        20.0\n",
       "7        20.0\n",
       "8        20.0\n",
       "         ... \n",
       "38286    20.0\n",
       "38288    20.0\n",
       "38293    20.0\n",
       "38297    20.0\n",
       "38301    20.0\n",
       "Name: 노출(분), Length: 20588, dtype: float64"
      ]
     },
     "execution_count": 16,
     "metadata": {},
     "output_type": "execute_result"
    }
   ],
   "source": [
    "x1 = NS_rev['노출(분)']\n",
    "x1 = x1[x1.notnull()]\n",
    "x1.astype(float)"
   ]
  },
  {
   "cell_type": "code",
   "execution_count": 17,
   "metadata": {},
   "outputs": [
    {
     "data": {
      "text/plain": [
       "6691     2.46667\n",
       "9538     2.81667\n",
       "14026          3\n",
       "14978          3\n",
       "18533    3.16667\n",
       "26450    3.28333\n",
       "35964       3.45\n",
       "24780    5.16667\n",
       "22693    5.16667\n",
       "23899    5.16667\n",
       "25921    5.33333\n",
       "29466    5.46667\n",
       "37739    6.63333\n",
       "34864    6.66667\n",
       "31055    6.68333\n",
       "28050       6.85\n",
       "28592       6.85\n",
       "26921    7.26667\n",
       "24373       8.85\n",
       "34530        9.7\n",
       "Name: 노출(분), dtype: object"
      ]
     },
     "execution_count": 17,
     "metadata": {},
     "output_type": "execute_result"
    }
   ],
   "source": [
    "x1.sort_values()[:20]"
   ]
  },
  {
   "cell_type": "markdown",
   "metadata": {},
   "source": [
    "노출 시간이 10분보다 작은 것들이 있는데, 단순한 입력 오류인지 아니면 실제 다음 품목 방송까지 중간 광고가 있었는지 확인이 어렵다"
   ]
  },
  {
   "cell_type": "code",
   "execution_count": 18,
   "metadata": {
    "scrolled": true
   },
   "outputs": [
    {
     "data": {
      "image/png": "[encoded data removed]",
      "text/plain": [
       "<Figure size 720x432 with 1 Axes>"
      ]
     },
     "metadata": {
      "needs_background": "light"
     },
     "output_type": "display_data"
    }
   ],
   "source": [
    "fig, ax = plt.subplots(figsize=(10, 6))\n",
    "sns.distplot(x1, kde=False)\n",
    "plt.show()"
   ]
  },
  {
   "cell_type": "markdown",
   "metadata": {},
   "source": [
    "### 마더코드"
   ]
  },
  {
   "cell_type": "code",
   "execution_count": 19,
   "metadata": {},
   "outputs": [
    {
     "data": {
      "text/plain": [
       "37372"
      ]
     },
     "execution_count": 19,
     "metadata": {},
     "output_type": "execute_result"
    }
   ],
   "source": [
    "x2 = NS_rev['마더코드']\n",
    "x2 = x2[x2.notnull()]\n",
    "\n",
    "len(x2)"
   ]
  },
  {
   "cell_type": "code",
   "execution_count": 20,
   "metadata": {
    "scrolled": true
   },
   "outputs": [
    {
     "data": {
      "image/png": "[encoded data removed]",
      "text/plain": [
       "<Figure size 648x504 with 1 Axes>"
      ]
     },
     "metadata": {
      "needs_background": "light"
     },
     "output_type": "display_data"
    }
   ],
   "source": [
    "fig, ax = plt.subplots(figsize=(9, 7))\n",
    "a = sns.distplot(x2)\n",
    "plt.show()"
   ]
  },
  {
   "cell_type": "code",
   "execution_count": 21,
   "metadata": {},
   "outputs": [
    {
     "data": {
      "text/plain": [
       "0    100148\n",
       "dtype: object"
      ]
     },
     "execution_count": 21,
     "metadata": {},
     "output_type": "execute_result"
    }
   ],
   "source": [
    "x2.mode()"
   ]
  },
  {
   "cell_type": "markdown",
   "metadata": {},
   "source": [
    "100148이 압도적 최빈값 (2618개)  \n",
    "확인해보니, LG 울트라HD TV들 "
   ]
  },
  {
   "cell_type": "code",
   "execution_count": 23,
   "metadata": {},
   "outputs": [
    {
     "data": {
      "text/plain": [
       "[(100148, 2618),\n",
       " (100837, 1507),\n",
       " (100448, 1308),\n",
       " (100205, 792),\n",
       " (100500, 702),\n",
       " (100203, 666),\n",
       " (100372, 639),\n",
       " (100575, 636),\n",
       " (100155, 620),\n",
       " (100150, 604),\n",
       " (100149, 540),\n",
       " (100074, 488),\n",
       " (100610, 465),\n",
       " (100765, 444),\n",
       " (100577, 408)]"
      ]
     },
     "execution_count": 23,
     "metadata": {},
     "output_type": "execute_result"
    }
   ],
   "source": [
    "from collections import Counter\n",
    "\n",
    "Counter(x2).most_common(n=15)"
   ]
  },
  {
   "cell_type": "code",
   "execution_count": 24,
   "metadata": {},
   "outputs": [
    {
     "data": {
      "text/plain": [
       "2618"
      ]
     },
     "execution_count": 24,
     "metadata": {},
     "output_type": "execute_result"
    }
   ],
   "source": [
    "LG_TV = NS_rev[NS_rev['마더코드']==100148]\n",
    "LG_TV = LG_TV['상품코드']\n",
    "len(LG_TV)"
   ]
  },
  {
   "cell_type": "code",
   "execution_count": 25,
   "metadata": {},
   "outputs": [
    {
     "data": {
      "text/plain": [
       "[(200501, 120),\n",
       " (200434, 120),\n",
       " (200510, 120),\n",
       " (200443, 120),\n",
       " (200519, 120),\n",
       " (200452, 120),\n",
       " (200524, 120),\n",
       " (200456, 120),\n",
       " (200505, 54),\n",
       " (200438, 54),\n",
       " (200514, 54),\n",
       " (200447, 54),\n",
       " (200528, 54),\n",
       " (200460, 54),\n",
       " (200503, 39),\n",
       " (200436, 39),\n",
       " (200512, 39),\n",
       " (200445, 39),\n",
       " (200521, 39),\n",
       " (200454, 39)]"
      ]
     },
     "execution_count": 25,
     "metadata": {},
     "output_type": "execute_result"
    }
   ],
   "source": [
    "Counter(LG_TV).most_common(n=20)"
   ]
  },
  {
   "cell_type": "markdown",
   "metadata": {},
   "source": [
    "같은 LG TV라도 상품코드는 다양함  \n",
    "대신 2005 : 일시불 / 2004 : 할부 "
   ]
  },
  {
   "cell_type": "markdown",
   "metadata": {},
   "source": [
    "### 상품코드"
   ]
  },
  {
   "cell_type": "code",
   "execution_count": 26,
   "metadata": {},
   "outputs": [],
   "source": [
    "x3 = NS_rev['상품코드']\n",
    "x3 = x3[x3.notnull()]"
   ]
  },
  {
   "cell_type": "code",
   "execution_count": 27,
   "metadata": {},
   "outputs": [
    {
     "data": {
      "image/png": "[encoded data removed]",
      "text/plain": [
       "<Figure size 648x504 with 1 Axes>"
      ]
     },
     "metadata": {
      "needs_background": "light"
     },
     "output_type": "display_data"
    }
   ],
   "source": [
    "fig, ax = plt.subplots(figsize=(9, 7))\n",
    "a = sns.distplot(x3)\n",
    "plt.show()"
   ]
  },
  {
   "cell_type": "code",
   "execution_count": 28,
   "metadata": {},
   "outputs": [
    {
     "data": {
      "text/plain": [
       "[(200864, 318),\n",
       " (200868, 282),\n",
       " (200533, 273),\n",
       " (200465, 273),\n",
       " (200014, 252),\n",
       " (200236, 198),\n",
       " (200556, 192),\n",
       " (200489, 192),\n",
       " (202467, 191),\n",
       " (202480, 191),\n",
       " (202470, 191),\n",
       " (202473, 191),\n",
       " (201378, 177),\n",
       " (201376, 177),\n",
       " (201379, 177)]"
      ]
     },
     "execution_count": 28,
     "metadata": {},
     "output_type": "execute_result"
    }
   ],
   "source": [
    "Counter(x3).most_common(n=15)"
   ]
  },
  {
   "cell_type": "markdown",
   "metadata": {},
   "source": [
    "200864 : 안동 간고등어 20팩  \n",
    "200868 : 한일 분쇄 믹서기  \n",
    "등 단일 품목은 마더코드와 무관해보임"
   ]
  },
  {
   "cell_type": "markdown",
   "metadata": {},
   "source": [
    "### 상품군"
   ]
  },
  {
   "cell_type": "code",
   "execution_count": 29,
   "metadata": {},
   "outputs": [],
   "source": [
    "x4 = NS_rev['상품군']\n",
    "x4 = x4[x4.notnull()]"
   ]
  },
  {
   "cell_type": "code",
   "execution_count": 42,
   "metadata": {},
   "outputs": [
    {
     "data": {
      "image/png": "[encoded data removed]",
      "text/plain": [
       "<Figure size 705.6x504 with 1 Axes>"
      ]
     },
     "metadata": {
      "needs_background": "light"
     },
     "output_type": "display_data"
    }
   ],
   "source": [
    "a = sns.catplot(x='상품군', data=NS_rev, kind='count', height=7, aspect=1.4)\n",
    "a.fig.suptitle('Category')\n",
    "plt.show()"
   ]
  },
  {
   "cell_type": "code",
   "execution_count": 43,
   "metadata": {},
   "outputs": [
    {
     "data": {
      "text/plain": [
       "[('주방', 6604),\n",
       " ('가전', 6479),\n",
       " ('의류', 4340),\n",
       " ('속옷', 3919),\n",
       " ('잡화', 3891),\n",
       " ('농수축', 3884),\n",
       " ('생활용품', 2877),\n",
       " ('가구', 2614),\n",
       " ('이미용', 1305),\n",
       " ('건강기능', 790),\n",
       " ('침구', 669)]"
      ]
     },
     "execution_count": 43,
     "metadata": {},
     "output_type": "execute_result"
    }
   ],
   "source": [
    "Counter(x4).most_common()"
   ]
  },
  {
   "cell_type": "markdown",
   "metadata": {},
   "source": [
    "### 판매단가"
   ]
  },
  {
   "cell_type": "code",
   "execution_count": 45,
   "metadata": {},
   "outputs": [
    {
     "data": {
      "text/plain": [
       "1         39900.0\n",
       "2         39900.0\n",
       "3         39900.0\n",
       "4         39900.0\n",
       "5         39900.0\n",
       "           ...   \n",
       "38300    148000.0\n",
       "38301    178000.0\n",
       "38302    168000.0\n",
       "38303    158000.0\n",
       "38304    148000.0\n",
       "Name: 판매단가, Length: 37372, dtype: float64"
      ]
     },
     "execution_count": 45,
     "metadata": {},
     "output_type": "execute_result"
    }
   ],
   "source": [
    "x5 = NS_rev['판매단가']\n",
    "x5 = x5[x5.notnull()]\n",
    "x5.astype(float)"
   ]
  },
  {
   "cell_type": "code",
   "execution_count": 47,
   "metadata": {},
   "outputs": [
    {
     "data": {
      "text/plain": [
       "9569     3990000\n",
       "10411    3990000\n",
       "31493    4250000\n",
       "30966    4250000\n",
       "30163    4250000\n",
       "30156    4250000\n",
       "30973    4250000\n",
       "31500    4250000\n",
       "31494    5060000\n",
       "30157    5060000\n",
       "30150    5060000\n",
       "31487    5060000\n",
       "30967    5060000\n",
       "30960    5060000\n",
       "30965    7930000\n",
       "31492    7930000\n",
       "31499    7930000\n",
       "30972    7930000\n",
       "30162    7930000\n",
       "30155    7930000\n",
       "Name: 판매단가, dtype: object"
      ]
     },
     "execution_count": 47,
     "metadata": {},
     "output_type": "execute_result"
    }
   ],
   "source": [
    "x5.sort_values()[-20:]"
   ]
  },
  {
   "cell_type": "code",
   "execution_count": 53,
   "metadata": {},
   "outputs": [
    {
     "data": {
      "image/png": "[encoded data removed]",
      "text/plain": [
       "<Figure size 648x504 with 1 Axes>"
      ]
     },
     "metadata": {
      "needs_background": "light"
     },
     "output_type": "display_data"
    }
   ],
   "source": [
    "fig, ax = plt.subplots(figsize=(9, 7))\n",
    "a = sns.distplot(x5)\n",
    "plt.show()"
   ]
  },
  {
   "cell_type": "code",
   "execution_count": 56,
   "metadata": {},
   "outputs": [
    {
     "data": {
      "image/png": "[encoded data removed]",
      "text/plain": [
       "<Figure size 648x504 with 1 Axes>"
      ]
     },
     "metadata": {
      "needs_background": "light"
     },
     "output_type": "display_data"
    }
   ],
   "source": [
    "fig, ax = plt.subplots(figsize=(9, 7))\n",
    "ax = sns.distplot(x5)\n",
    "ax.set_xlim(0,2000000)\n",
    "plt.show()"
   ]
  },
  {
   "cell_type": "markdown",
   "metadata": {},
   "source": [
    "### 취급액"
   ]
  },
  {
   "cell_type": "code",
   "execution_count": 66,
   "metadata": {},
   "outputs": [
    {
     "data": {
      "text/plain": [
       "1          2099000.0\n",
       "2          4371000.0\n",
       "3          3262000.0\n",
       "4          6955000.0\n",
       "5          6672000.0\n",
       "            ...     \n",
       "38300     10157000.0\n",
       "38301     50929000.0\n",
       "38302    104392000.0\n",
       "38303     13765000.0\n",
       "38304     46608000.0\n",
       "Name: 취급액, Length: 37372, dtype: float64"
      ]
     },
     "execution_count": 66,
     "metadata": {},
     "output_type": "execute_result"
    }
   ],
   "source": [
    "x6 = NS_rev['취급액']\n",
    "x6 = x6[x6.notnull()]\n",
    "x6.astype(float)"
   ]
  },
  {
   "cell_type": "code",
   "execution_count": 73,
   "metadata": {},
   "outputs": [
    {
     "data": {
      "image/png": "[encoded data removed]",
      "text/plain": [
       "<Figure size 648x504 with 1 Axes>"
      ]
     },
     "metadata": {
      "needs_background": "light"
     },
     "output_type": "display_data"
    }
   ],
   "source": [
    "fig, ax = plt.subplots(figsize=(9, 7))\n",
    "a = sns.distplot(x6)\n",
    "plt.show()"
   ]
  },
  {
   "cell_type": "code",
   "execution_count": 78,
   "metadata": {},
   "outputs": [
    {
     "data": {
      "image/png": "[encoded data removed]",
      "text/plain": [
       "<Figure size 648x504 with 1 Axes>"
      ]
     },
     "metadata": {
      "needs_background": "light"
     },
     "output_type": "display_data"
    }
   ],
   "source": [
    "fig, ax = plt.subplots(figsize=(9, 7))\n",
    "ax = sns.distplot(x6)\n",
    "ax.set_xlim(0,150000000)\n",
    "plt.show()"
   ]
  },
  {
   "cell_type": "code",
   "execution_count": 74,
   "metadata": {},
   "outputs": [
    {
     "data": {
      "text/plain": [
       "37355    154906000\n",
       "35047    157780000\n",
       "34668    161654000\n",
       "36885    162828000\n",
       "35025    166635000\n",
       "38086    167261000\n",
       "33867    169907000\n",
       "37438    177875000\n",
       "26449    181886000\n",
       "34903    185927000\n",
       "36268    187419000\n",
       "33179    199541000\n",
       "37257    216065000\n",
       "37357    223492000\n",
       "34907    225084000\n",
       "32372    228177000\n",
       "35046    231789000\n",
       "34386    241079000\n",
       "37862    270284000\n",
       "35785    322009000\n",
       "Name: 취급액, dtype: object"
      ]
     },
     "execution_count": 74,
     "metadata": {},
     "output_type": "execute_result"
    }
   ],
   "source": [
    "x6.sort_values()[-20:]"
   ]
  },
  {
   "cell_type": "markdown",
   "metadata": {},
   "source": [
    "## 새 변수 생성\n",
    "### 취급액 / 판매단가 = 주문량"
   ]
  },
  {
   "cell_type": "code",
   "execution_count": 79,
   "metadata": {},
   "outputs": [
    {
     "data": {
      "text/html": [
       "<div>\n",
       "<style scoped>\n",
       "    .dataframe tbody tr th:only-of-type {\n",
       "        vertical-align: middle;\n",
       "    }\n",
       "\n",
       "    .dataframe tbody tr th {\n",
       "        vertical-align: top;\n",
       "    }\n",
       "\n",
       "    .dataframe thead th {\n",
       "        text-align: right;\n",
       "    }\n",
       "</style>\n",
       "<table border=\"1\" class=\"dataframe\">\n",
       "  <thead>\n",
       "    <tr style=\"text-align: right;\">\n",
       "      <th></th>\n",
       "      <th>방송일시</th>\n",
       "      <th>노출(분)</th>\n",
       "      <th>마더코드</th>\n",
       "      <th>상품코드</th>\n",
       "      <th>상품명</th>\n",
       "      <th>상품군</th>\n",
       "      <th>판매단가</th>\n",
       "      <th>취급액</th>\n",
       "      <th>month</th>\n",
       "      <th>day_of_month</th>\n",
       "      <th>day_of_week</th>\n",
       "      <th>time</th>\n",
       "      <th>hour</th>\n",
       "      <th>minute</th>\n",
       "      <th>주문량</th>\n",
       "    </tr>\n",
       "  </thead>\n",
       "  <tbody>\n",
       "    <tr>\n",
       "      <th>1</th>\n",
       "      <td>2019-01-01 06:00:00</td>\n",
       "      <td>20</td>\n",
       "      <td>100346</td>\n",
       "      <td>201072</td>\n",
       "      <td>테이트 남성 셀린니트3종</td>\n",
       "      <td>의류</td>\n",
       "      <td>39900</td>\n",
       "      <td>2099000</td>\n",
       "      <td>1</td>\n",
       "      <td>1</td>\n",
       "      <td>1</td>\n",
       "      <td>06:00:00</td>\n",
       "      <td>6</td>\n",
       "      <td>0</td>\n",
       "      <td>52.6065</td>\n",
       "    </tr>\n",
       "    <tr>\n",
       "      <th>2</th>\n",
       "      <td>2019-01-01 06:00:00</td>\n",
       "      <td>NaN</td>\n",
       "      <td>100346</td>\n",
       "      <td>201079</td>\n",
       "      <td>테이트 여성 셀린니트3종</td>\n",
       "      <td>의류</td>\n",
       "      <td>39900</td>\n",
       "      <td>4371000</td>\n",
       "      <td>1</td>\n",
       "      <td>1</td>\n",
       "      <td>1</td>\n",
       "      <td>06:00:00</td>\n",
       "      <td>6</td>\n",
       "      <td>0</td>\n",
       "      <td>109.549</td>\n",
       "    </tr>\n",
       "    <tr>\n",
       "      <th>3</th>\n",
       "      <td>2019-01-01 06:20:00</td>\n",
       "      <td>20</td>\n",
       "      <td>100346</td>\n",
       "      <td>201072</td>\n",
       "      <td>테이트 남성 셀린니트3종</td>\n",
       "      <td>의류</td>\n",
       "      <td>39900</td>\n",
       "      <td>3262000</td>\n",
       "      <td>1</td>\n",
       "      <td>1</td>\n",
       "      <td>1</td>\n",
       "      <td>06:20:00</td>\n",
       "      <td>6</td>\n",
       "      <td>20</td>\n",
       "      <td>81.7544</td>\n",
       "    </tr>\n",
       "    <tr>\n",
       "      <th>4</th>\n",
       "      <td>2019-01-01 06:20:00</td>\n",
       "      <td>NaN</td>\n",
       "      <td>100346</td>\n",
       "      <td>201079</td>\n",
       "      <td>테이트 여성 셀린니트3종</td>\n",
       "      <td>의류</td>\n",
       "      <td>39900</td>\n",
       "      <td>6955000</td>\n",
       "      <td>1</td>\n",
       "      <td>1</td>\n",
       "      <td>1</td>\n",
       "      <td>06:20:00</td>\n",
       "      <td>6</td>\n",
       "      <td>20</td>\n",
       "      <td>174.311</td>\n",
       "    </tr>\n",
       "    <tr>\n",
       "      <th>5</th>\n",
       "      <td>2019-01-01 06:40:00</td>\n",
       "      <td>20</td>\n",
       "      <td>100346</td>\n",
       "      <td>201072</td>\n",
       "      <td>테이트 남성 셀린니트3종</td>\n",
       "      <td>의류</td>\n",
       "      <td>39900</td>\n",
       "      <td>6672000</td>\n",
       "      <td>1</td>\n",
       "      <td>1</td>\n",
       "      <td>1</td>\n",
       "      <td>06:40:00</td>\n",
       "      <td>6</td>\n",
       "      <td>40</td>\n",
       "      <td>167.218</td>\n",
       "    </tr>\n",
       "  </tbody>\n",
       "</table>\n",
       "</div>"
      ],
      "text/plain": [
       "                 방송일시 노출(분)    마더코드    상품코드            상품명 상품군   판매단가  \\\n",
       "1 2019-01-01 06:00:00    20  100346  201072  테이트 남성 셀린니트3종  의류  39900   \n",
       "2 2019-01-01 06:00:00   NaN  100346  201079  테이트 여성 셀린니트3종  의류  39900   \n",
       "3 2019-01-01 06:20:00    20  100346  201072  테이트 남성 셀린니트3종  의류  39900   \n",
       "4 2019-01-01 06:20:00   NaN  100346  201079  테이트 여성 셀린니트3종  의류  39900   \n",
       "5 2019-01-01 06:40:00    20  100346  201072  테이트 남성 셀린니트3종  의류  39900   \n",
       "\n",
       "       취급액  month  day_of_month  day_of_week      time  hour  minute      주문량  \n",
       "1  2099000      1             1            1  06:00:00     6       0  52.6065  \n",
       "2  4371000      1             1            1  06:00:00     6       0  109.549  \n",
       "3  3262000      1             1            1  06:20:00     6      20  81.7544  \n",
       "4  6955000      1             1            1  06:20:00     6      20  174.311  \n",
       "5  6672000      1             1            1  06:40:00     6      40  167.218  "
      ]
     },
     "execution_count": 79,
     "metadata": {},
     "output_type": "execute_result"
    }
   ],
   "source": [
    "NS_rev['주문량'] = NS_rev['취급액'] / NS_rev['판매단가']\n",
    "NS_rev.head()"
   ]
  }
 ],
 "metadata": {
  "kernelspec": {
   "display_name": "Python 3",
   "language": "python",
   "name": "python3"
  },
  "language_info": {
   "codemirror_mode": {
    "name": "ipython",
    "version": 3
   },
   "file_extension": ".py",
   "mimetype": "text/x-python",
   "name": "python",
   "nbconvert_exporter": "python",
   "pygments_lexer": "ipython3",
   "version": "3.7.6"
  }
 },
 "nbformat": 4,
 "nbformat_minor": 4
}
