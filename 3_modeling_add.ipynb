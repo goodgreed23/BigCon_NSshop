{
  "nbformat": 4,
  "nbformat_minor": 0,
  "metadata": {
    "kernelspec": {
      "display_name": "Python 3",
      "language": "python",
      "name": "python3"
    },
    "language_info": {
      "codemirror_mode": {
        "name": "ipython",
        "version": 3
      },
      "file_extension": ".py",
      "mimetype": "text/x-python",
      "name": "python",
      "nbconvert_exporter": "python",
      "pygments_lexer": "ipython3",
      "version": "3.7.4"
    },
    "latex_envs": {
      "LaTeX_envs_menu_present": true,
      "autoclose": false,
      "autocomplete": true,
      "bibliofile": "biblio.bib",
      "cite_by": "apalike",
      "current_citInitial": 1,
      "eqLabelWithNumbers": true,
      "eqNumInitial": 1,
      "hotkeys": {
        "equation": "Ctrl-E",
        "itemize": "Ctrl-I"
      },
      "labels_anchors": false,
      "latex_user_defs": false,
      "report_style_numbering": false,
      "user_envs_cfg": false
    },
    "toc": {
      "base_numbering": 1,
      "nav_menu": {},
      "number_sections": true,
      "sideBar": true,
      "skip_h1_title": false,
      "title_cell": "Table of Contents",
      "title_sidebar": "Contents",
      "toc_cell": false,
      "toc_position": {
        "height": "calc(100% - 180px)",
        "left": "10px",
        "top": "150px",
        "width": "165px"
      },
      "toc_section_display": true,
      "toc_window_display": false
    },
    "colab": {
      "name": "3_modeling.ipynb",
      "provenance": [],
      "include_colab_link": true
    }
  },
  "cells": [
    {
      "cell_type": "markdown",
      "metadata": {
        "id": "view-in-github",
        "colab_type": "text"
      },
      "source": [
        "<a href=\"https://colab.research.google.com/github/rebekah1124/BigCon_NSshop/blob/master/3_modeling_add.ipynb\" target=\"_parent\"><img src=\"https://colab.research.google.com/assets/colab-badge.svg\" alt=\"Open In Colab\"/></a>"
      ]
    },
    {
      "cell_type": "code",
      "metadata": {
        "ExecuteTime": {
          "end_time": "2020-09-19T07:58:54.191456Z",
          "start_time": "2020-09-19T07:58:52.884196Z"
        },
        "id": "UDLA1Db0BaqY",
        "colab_type": "code",
        "colab": {}
      },
      "source": [
        "import pandas as pd\n",
        "import seaborn as sns\n",
        "import matplotlib.pyplot as plt\n",
        "import datetime as dt\n",
        "import numpy as np\n",
        "\n",
        "# 한글 인코딩 해결\n",
        "import matplotlib as mpl\n",
        "import matplotlib.font_manager as fm\n",
        "from matplotlib import rc\n",
        "rc('font', family='AppleGothic')\n",
        "plt.rcParams['axes.unicode_minus'] = False\n",
        "\n",
        "import warnings\n",
        "warnings.filterwarnings(action='ignore')\n",
        "\n",
        "import sklearn\n",
        "from sklearn import preprocessing\n",
        "from sklearn.preprocessing import minmax_scale, StandardScaler, MinMaxScaler\n",
        "from sklearn.model_selection import train_test_split\n",
        "from sklearn.utils import check_array"
      ],
      "execution_count": null,
      "outputs": []
    },
    {
      "cell_type": "code",
      "metadata": {
        "ExecuteTime": {
          "end_time": "2020-09-19T07:58:54.201188Z",
          "start_time": "2020-09-19T07:58:54.194994Z"
        },
        "id": "XiVT7PPIBaqg",
        "colab_type": "code",
        "colab": {}
      },
      "source": [
        "# MAPE\n",
        "def mean_absolute_percentage_error(y_true, y_pred): \n",
        "    y_true, y_pred = np.array(y_true), np.array(y_pred)\n",
        "\n",
        "    ## Note: does not handle mix 1d representation\n",
        "    #if _is_1d(y_true): \n",
        "    #    y_true, y_pred = _check_1d_array(y_true, y_pred)\n",
        "\n",
        "    return np.mean(np.abs((y_true - y_pred) / y_true)) * 100"
      ],
      "execution_count": null,
      "outputs": []
    },
    {
      "cell_type": "markdown",
      "metadata": {
        "id": "yOoDpRvtBaqn",
        "colab_type": "text"
      },
      "source": [
        "**모델링 시 유의사항**  \n",
        "- `broadcastTime` / `date` / `time` / `minute` / `product_code` 빼고 돌리기  \n",
        "- mothercode : ?  \n",
        "- product : 일단 냅두되 모델 돌릴 땐 사용하지 X  \n",
        "- (2) showtime : 그냥돌려보기 / 상품명별로 합쳐보기 (데이터셋 두 가지로 저장)  \n",
        "- (2) category : OneHotEncoding / 카테고리별로 모델 돌려보거나 다 합쳐서 돌려보거나  \n",
        "- (2) max_rating : 일단 NaN 다 0으로 / 혹시 같은 상품인데 max_rating값 있으면 그걸로 채워보기  \n",
        "- avg_rating : 일단 넣어보되 빼는 것도 생각  \n",
        "- amount : 예측해야할것 (예측변수를 order로 할거면 얘는 빼고돌리기)  \n",
        "- day / week / isWeekend / isHoliday / timeslot / hour : 그냥 두기  \n",
        "- (3) price : 걍 / 로그변환 / 상품군별로 standard scale  \n",
        "- (2) order : y값 예측을 얘로 해보자? / 피쳐로 넣을거면 분당 판매량  \n",
        "- temp : 최소/최고기온 (월별 minMaxScale)  \n",
        "- precipitation : numeric (월별 minMaxScale)  \n",
        "  \n",
        "*경우의 수가 꽤 많으니까 주석처리를 해제했다 안했다 하는식으로 최대한 간편하게 경우의 수를 나눠 돌려볼 수 있도록 코드 구성 -> 각 경우의 수에 대해 mape 잘 기록해두기..*  \n",
        "  \n",
        "*추후 merging 등에서 에러나지 않도록 중간중간마다 index reset하고 순서 맞는지 확인하기*"
      ]
    },
    {
      "cell_type": "markdown",
      "metadata": {
        "id": "mucpRtzRBaqo",
        "colab_type": "text"
      },
      "source": [
        "# Read Dataset  \n",
        "- train test datasets"
      ]
    },
    {
      "cell_type": "code",
      "metadata": {
        "ExecuteTime": {
          "end_time": "2020-09-19T08:01:55.702376Z",
          "start_time": "2020-09-19T08:01:55.399905Z"
        },
        "id": "ft3SF0iCBaqq",
        "colab_type": "code",
        "colab": {}
      },
      "source": [
        "train = pd.read_csv('retail_extended.csv') \n",
        "test = pd.read_csv('test_extended.csv')"
      ],
      "execution_count": null,
      "outputs": []
    },
    {
      "cell_type": "markdown",
      "metadata": {
        "id": "v-bym0suBaqw",
        "colab_type": "text"
      },
      "source": [
        "# Sanity Check  \n",
        "- train data와 test data의 형식 같은지 체크  \n",
        "- NaN값 없는지  \n",
        "- column 나열 순서 동일한지"
      ]
    },
    {
      "cell_type": "code",
      "metadata": {
        "ExecuteTime": {
          "end_time": "2020-09-19T08:02:38.762382Z",
          "start_time": "2020-09-19T08:02:38.752997Z"
        },
        "id": "c0gwPnYABaqy",
        "colab_type": "code",
        "colab": {},
        "outputId": "c886616c-6aa2-4bff-c13d-0eaa6a1f1d6c"
      },
      "source": [
        "print(train.shape)\n",
        "train.columns"
      ],
      "execution_count": null,
      "outputs": [
        {
          "output_type": "stream",
          "text": [
            "(35382, 40)\n"
          ],
          "name": "stdout"
        },
        {
          "output_type": "execute_result",
          "data": {
            "text/plain": [
              "Index(['broadcastTime', 'showtime', 'mothercode', 'product', 'category',\n",
              "       'max_rating', 'amount', 'date', 'month', 'day', 'week', 'isWeekend',\n",
              "       'isHoliday', 'season', 'dayofweek', 'timeslot', 'time', 'hour',\n",
              "       'minute', 'product_code', 'price', 'order', 'avg_rating', 'payment',\n",
              "       'gender', 'isPremium', 'sub_category', 'precipitation', 'avg_temp',\n",
              "       'min_temp', 'max_temp', 'setOrNot', 'showtime_sum', 'order_per_min',\n",
              "       'log_amount', 'log_price', 'std_amount', 'std_price', 'minmax_amount',\n",
              "       'minmax_price'],\n",
              "      dtype='object')"
            ]
          },
          "metadata": {
            "tags": []
          },
          "execution_count": 7
        }
      ]
    },
    {
      "cell_type": "code",
      "metadata": {
        "ExecuteTime": {
          "end_time": "2020-09-19T08:02:38.921800Z",
          "start_time": "2020-09-19T08:02:38.901478Z"
        },
        "id": "uBAWZ9buBaq7",
        "colab_type": "code",
        "colab": {},
        "outputId": "e017cbb0-aed5-43ec-de80-e0586647db0e"
      },
      "source": [
        "print(test.shape)\n",
        "test.columns\n",
        "# Does not include...\n",
        "# avg_temp / min_temp / max_temp : Not implemented yet...\n",
        "# max_rating / order / avg_rating / order_per_min / log_amount / std_amount / minmax_amount"
      ],
      "execution_count": null,
      "outputs": [
        {
          "output_type": "stream",
          "text": [
            "(2716, 30)\n"
          ],
          "name": "stdout"
        },
        {
          "output_type": "execute_result",
          "data": {
            "text/plain": [
              "Index(['broadcastTime', 'showtime', 'mothercode', 'product', 'category',\n",
              "       'amount', 'date', 'month', 'day', 'week', 'isWeekend', 'isHoliday',\n",
              "       'season', 'dayofweek', 'timeslot', 'time', 'hour', 'minute',\n",
              "       'product_code', 'price', 'payment', 'gender', 'isPremium',\n",
              "       'sub_category', 'precipitation', 'setOrNot', 'showtime_sum',\n",
              "       'log_price', 'std_price', 'minmax_price'],\n",
              "      dtype='object')"
            ]
          },
          "metadata": {
            "tags": []
          },
          "execution_count": 8
        }
      ]
    },
    {
      "cell_type": "code",
      "metadata": {
        "ExecuteTime": {
          "end_time": "2020-09-19T08:13:23.122606Z",
          "start_time": "2020-09-19T08:13:23.078593Z"
        },
        "id": "bwM17QLmBarC",
        "colab_type": "code",
        "colab": {},
        "outputId": "2e5ec947-a5cc-47fa-b114-63a046d2aad0"
      },
      "source": [
        "train.isna().sum()"
      ],
      "execution_count": null,
      "outputs": [
        {
          "output_type": "execute_result",
          "data": {
            "text/plain": [
              "broadcastTime        0\n",
              "showtime             0\n",
              "mothercode           0\n",
              "product              0\n",
              "category             0\n",
              "max_rating       10910\n",
              "amount               0\n",
              "date                 0\n",
              "month                0\n",
              "day                  0\n",
              "week                 0\n",
              "isWeekend            0\n",
              "isHoliday            0\n",
              "season               0\n",
              "dayofweek            0\n",
              "timeslot             0\n",
              "time                 0\n",
              "hour                 0\n",
              "minute               0\n",
              "product_code         0\n",
              "price                0\n",
              "order                0\n",
              "avg_rating           0\n",
              "payment          24324\n",
              "gender           31111\n",
              "isPremium            0\n",
              "sub_category      1677\n",
              "precipitation        0\n",
              "avg_temp             0\n",
              "min_temp             0\n",
              "max_temp             0\n",
              "setOrNot             0\n",
              "showtime_sum         0\n",
              "order_per_min        0\n",
              "log_amount           0\n",
              "log_price            0\n",
              "std_amount           0\n",
              "std_price            0\n",
              "minmax_amount        0\n",
              "minmax_price         0\n",
              "dtype: int64"
            ]
          },
          "metadata": {
            "tags": []
          },
          "execution_count": 14
        }
      ]
    },
    {
      "cell_type": "code",
      "metadata": {
        "ExecuteTime": {
          "end_time": "2020-09-19T08:13:25.888937Z",
          "start_time": "2020-09-19T08:13:25.869285Z"
        },
        "id": "TvP691biBarI",
        "colab_type": "code",
        "colab": {},
        "outputId": "21180c53-1538-45e8-804f-fde366dbb1a0"
      },
      "source": [
        "test.isna().sum()"
      ],
      "execution_count": null,
      "outputs": [
        {
          "output_type": "execute_result",
          "data": {
            "text/plain": [
              "broadcastTime       0\n",
              "showtime            0\n",
              "mothercode          0\n",
              "product             0\n",
              "category            0\n",
              "amount           2716\n",
              "date                0\n",
              "month               0\n",
              "day                 0\n",
              "week                0\n",
              "isWeekend           0\n",
              "isHoliday           0\n",
              "season              0\n",
              "dayofweek           0\n",
              "timeslot            0\n",
              "time                0\n",
              "hour                0\n",
              "minute              0\n",
              "product_code        0\n",
              "price               0\n",
              "payment          2332\n",
              "gender           2506\n",
              "isPremium           0\n",
              "sub_category      472\n",
              "precipitation       0\n",
              "setOrNot            0\n",
              "showtime_sum        0\n",
              "log_price           0\n",
              "std_price           0\n",
              "minmax_price        0\n",
              "dtype: int64"
            ]
          },
          "metadata": {
            "tags": []
          },
          "execution_count": 15
        }
      ]
    },
    {
      "cell_type": "markdown",
      "metadata": {
        "id": "4BgVLCTkBarR",
        "colab_type": "text"
      },
      "source": [
        "# Define Feature & Response Variable  \n",
        "제외 변수 : `broadcastTime` / `product` / `mothercode` / `date` / `time` / `minute` / `product_code` / `brand` / `max_rating` / 일단 강수량만 포함  \n",
        "  \n",
        "경우의 수(16가지)  \n",
        "1. 무엇을 할지 (카테고리별 vs. 전체) 2가지  \n",
        "2. Y변수를 무엇으로 할지 (취급액 vs. 주문량) 4가지  \n",
        "     취급액 & Price Scaling(그대로 vs. 로그변환 vs. 상품군별 standard scaling)  \n",
        "3. Temp/precipitation Scaling (그대로 vs. MinMaxScale) 2가지  \n",
        "\n",
        "**케이스 나눌 때 특히 두 번째 경우 showtime이랑 최종 예측값 어떻게 계산해야 하는지 매우 잘 생각하기! 저는 넘 헷갈려용...:/**"
      ]
    },
    {
      "cell_type": "code",
      "metadata": {
        "ExecuteTime": {
          "end_time": "2020-09-19T08:10:25.403036Z",
          "start_time": "2020-09-19T08:10:25.393189Z"
        },
        "id": "LbbiHX6rBarS",
        "colab_type": "code",
        "colab": {}
      },
      "source": [
        "# (price, amount), (log_price, log_amount), (minmax_price, minmax_amount), (std_price, std_amount) 중 상황에 맞게 선택\n",
        "feature = ['showtime', 'category', 'month', 'day', 'week', 'isWeekend', 'isHoliday',\n",
        "           'season', 'dayofweek', 'timeslot', 'hour', 'price', 'payment', 'gender',\n",
        "           'isPremium', 'sub_category', 'precipitation', 'setOrNot', 'showtime_sum']\n",
        "           # 'log_price', 'std_price', 'minmax_price']\n",
        "# 추후에 미세먼지랑 전국 기온도 완료되면 추가하기\n",
        "response = 'amount'\n",
        "# response = 'order'"
      ],
      "execution_count": null,
      "outputs": []
    },
    {
      "cell_type": "code",
      "metadata": {
        "ExecuteTime": {
          "end_time": "2020-09-19T08:14:45.654045Z",
          "start_time": "2020-09-19T08:14:45.622597Z"
        },
        "id": "ac1VnON0Bara",
        "colab_type": "code",
        "colab": {}
      },
      "source": [
        "# 가능한 원데이터 건들지 않는 방향으로\n",
        "tmp_train = train[feature]\n",
        "tmp_train = tmp_train.reset_index(drop=True)\n",
        "\n",
        "tmp_test = test[feature]\n",
        "tmp_test = tmp_test.reset_index(drop=True)"
      ],
      "execution_count": null,
      "outputs": []
    },
    {
      "cell_type": "markdown",
      "metadata": {
        "id": "lngH_8kSBarg",
        "colab_type": "text"
      },
      "source": [
        "# Scaling  \n",
        "- `temp` / `precipitation` : 월별로 MinMaxScale  \n",
        "- `category` / `season` / `dayofweek` / `payment` / `gender` / `sub_category` : OneHotEncoding"
      ]
    },
    {
      "cell_type": "code",
      "metadata": {
        "ExecuteTime": {
          "end_time": "2020-09-19T08:15:33.551273Z",
          "start_time": "2020-09-19T08:15:33.439218Z"
        },
        "id": "6ssCkB3KBarh",
        "colab_type": "code",
        "colab": {},
        "outputId": "0b77da2a-4ec6-4c19-c5d4-b522c0386e49"
      },
      "source": [
        "# ohe : train\n",
        "tmp_train.dayofweek = pd.Categorical(tmp_train.dayofweek)\n",
        "ohe_tmp = pd.get_dummies(tmp_train[['category' , 'season', 'dayofweek', 'payment', 'gender', 'sub_category']])\n",
        "ohe_tmp"
      ],
      "execution_count": null,
      "outputs": [
        {
          "output_type": "execute_result",
          "data": {
            "text/html": [
              "<div>\n",
              "<style scoped>\n",
              "    .dataframe tbody tr th:only-of-type {\n",
              "        vertical-align: middle;\n",
              "    }\n",
              "\n",
              "    .dataframe tbody tr th {\n",
              "        vertical-align: top;\n",
              "    }\n",
              "\n",
              "    .dataframe thead th {\n",
              "        text-align: right;\n",
              "    }\n",
              "</style>\n",
              "<table border=\"1\" class=\"dataframe\">\n",
              "  <thead>\n",
              "    <tr style=\"text-align: right;\">\n",
              "      <th></th>\n",
              "      <th>category_가구</th>\n",
              "      <th>category_가전</th>\n",
              "      <th>category_건강기능</th>\n",
              "      <th>category_농수축</th>\n",
              "      <th>category_생활용품</th>\n",
              "      <th>category_속옷</th>\n",
              "      <th>category_의류</th>\n",
              "      <th>category_이미용</th>\n",
              "      <th>category_잡화</th>\n",
              "      <th>category_주방</th>\n",
              "      <th>...</th>\n",
              "      <th>sub_category_티셔츠</th>\n",
              "      <th>sub_category_패딩</th>\n",
              "      <th>sub_category_패치</th>\n",
              "      <th>sub_category_팬츠</th>\n",
              "      <th>sub_category_프라이팬</th>\n",
              "      <th>sub_category_해산물</th>\n",
              "      <th>sub_category_행거</th>\n",
              "      <th>sub_category_헤어</th>\n",
              "      <th>sub_category_혈압계</th>\n",
              "      <th>sub_category_히터</th>\n",
              "    </tr>\n",
              "  </thead>\n",
              "  <tbody>\n",
              "    <tr>\n",
              "      <td>0</td>\n",
              "      <td>0</td>\n",
              "      <td>0</td>\n",
              "      <td>0</td>\n",
              "      <td>0</td>\n",
              "      <td>0</td>\n",
              "      <td>0</td>\n",
              "      <td>1</td>\n",
              "      <td>0</td>\n",
              "      <td>0</td>\n",
              "      <td>0</td>\n",
              "      <td>...</td>\n",
              "      <td>0</td>\n",
              "      <td>0</td>\n",
              "      <td>0</td>\n",
              "      <td>0</td>\n",
              "      <td>0</td>\n",
              "      <td>0</td>\n",
              "      <td>0</td>\n",
              "      <td>0</td>\n",
              "      <td>0</td>\n",
              "      <td>0</td>\n",
              "    </tr>\n",
              "    <tr>\n",
              "      <td>1</td>\n",
              "      <td>0</td>\n",
              "      <td>0</td>\n",
              "      <td>0</td>\n",
              "      <td>0</td>\n",
              "      <td>0</td>\n",
              "      <td>0</td>\n",
              "      <td>1</td>\n",
              "      <td>0</td>\n",
              "      <td>0</td>\n",
              "      <td>0</td>\n",
              "      <td>...</td>\n",
              "      <td>0</td>\n",
              "      <td>0</td>\n",
              "      <td>0</td>\n",
              "      <td>0</td>\n",
              "      <td>0</td>\n",
              "      <td>0</td>\n",
              "      <td>0</td>\n",
              "      <td>0</td>\n",
              "      <td>0</td>\n",
              "      <td>0</td>\n",
              "    </tr>\n",
              "    <tr>\n",
              "      <td>2</td>\n",
              "      <td>0</td>\n",
              "      <td>0</td>\n",
              "      <td>0</td>\n",
              "      <td>0</td>\n",
              "      <td>0</td>\n",
              "      <td>0</td>\n",
              "      <td>1</td>\n",
              "      <td>0</td>\n",
              "      <td>0</td>\n",
              "      <td>0</td>\n",
              "      <td>...</td>\n",
              "      <td>0</td>\n",
              "      <td>0</td>\n",
              "      <td>0</td>\n",
              "      <td>0</td>\n",
              "      <td>0</td>\n",
              "      <td>0</td>\n",
              "      <td>0</td>\n",
              "      <td>0</td>\n",
              "      <td>0</td>\n",
              "      <td>0</td>\n",
              "    </tr>\n",
              "    <tr>\n",
              "      <td>3</td>\n",
              "      <td>0</td>\n",
              "      <td>0</td>\n",
              "      <td>0</td>\n",
              "      <td>0</td>\n",
              "      <td>0</td>\n",
              "      <td>0</td>\n",
              "      <td>1</td>\n",
              "      <td>0</td>\n",
              "      <td>0</td>\n",
              "      <td>0</td>\n",
              "      <td>...</td>\n",
              "      <td>0</td>\n",
              "      <td>0</td>\n",
              "      <td>0</td>\n",
              "      <td>0</td>\n",
              "      <td>0</td>\n",
              "      <td>0</td>\n",
              "      <td>0</td>\n",
              "      <td>0</td>\n",
              "      <td>0</td>\n",
              "      <td>0</td>\n",
              "    </tr>\n",
              "    <tr>\n",
              "      <td>4</td>\n",
              "      <td>0</td>\n",
              "      <td>0</td>\n",
              "      <td>0</td>\n",
              "      <td>0</td>\n",
              "      <td>0</td>\n",
              "      <td>0</td>\n",
              "      <td>1</td>\n",
              "      <td>0</td>\n",
              "      <td>0</td>\n",
              "      <td>0</td>\n",
              "      <td>...</td>\n",
              "      <td>0</td>\n",
              "      <td>0</td>\n",
              "      <td>0</td>\n",
              "      <td>0</td>\n",
              "      <td>0</td>\n",
              "      <td>0</td>\n",
              "      <td>0</td>\n",
              "      <td>0</td>\n",
              "      <td>0</td>\n",
              "      <td>0</td>\n",
              "    </tr>\n",
              "    <tr>\n",
              "      <td>...</td>\n",
              "      <td>...</td>\n",
              "      <td>...</td>\n",
              "      <td>...</td>\n",
              "      <td>...</td>\n",
              "      <td>...</td>\n",
              "      <td>...</td>\n",
              "      <td>...</td>\n",
              "      <td>...</td>\n",
              "      <td>...</td>\n",
              "      <td>...</td>\n",
              "      <td>...</td>\n",
              "      <td>...</td>\n",
              "      <td>...</td>\n",
              "      <td>...</td>\n",
              "      <td>...</td>\n",
              "      <td>...</td>\n",
              "      <td>...</td>\n",
              "      <td>...</td>\n",
              "      <td>...</td>\n",
              "      <td>...</td>\n",
              "      <td>...</td>\n",
              "    </tr>\n",
              "    <tr>\n",
              "      <td>35377</td>\n",
              "      <td>0</td>\n",
              "      <td>0</td>\n",
              "      <td>0</td>\n",
              "      <td>0</td>\n",
              "      <td>0</td>\n",
              "      <td>0</td>\n",
              "      <td>0</td>\n",
              "      <td>0</td>\n",
              "      <td>0</td>\n",
              "      <td>1</td>\n",
              "      <td>...</td>\n",
              "      <td>0</td>\n",
              "      <td>0</td>\n",
              "      <td>0</td>\n",
              "      <td>0</td>\n",
              "      <td>0</td>\n",
              "      <td>0</td>\n",
              "      <td>0</td>\n",
              "      <td>0</td>\n",
              "      <td>0</td>\n",
              "      <td>0</td>\n",
              "    </tr>\n",
              "    <tr>\n",
              "      <td>35378</td>\n",
              "      <td>0</td>\n",
              "      <td>0</td>\n",
              "      <td>0</td>\n",
              "      <td>0</td>\n",
              "      <td>0</td>\n",
              "      <td>0</td>\n",
              "      <td>0</td>\n",
              "      <td>0</td>\n",
              "      <td>0</td>\n",
              "      <td>1</td>\n",
              "      <td>...</td>\n",
              "      <td>0</td>\n",
              "      <td>0</td>\n",
              "      <td>0</td>\n",
              "      <td>0</td>\n",
              "      <td>0</td>\n",
              "      <td>0</td>\n",
              "      <td>0</td>\n",
              "      <td>0</td>\n",
              "      <td>0</td>\n",
              "      <td>0</td>\n",
              "    </tr>\n",
              "    <tr>\n",
              "      <td>35379</td>\n",
              "      <td>0</td>\n",
              "      <td>0</td>\n",
              "      <td>0</td>\n",
              "      <td>0</td>\n",
              "      <td>0</td>\n",
              "      <td>0</td>\n",
              "      <td>0</td>\n",
              "      <td>0</td>\n",
              "      <td>0</td>\n",
              "      <td>1</td>\n",
              "      <td>...</td>\n",
              "      <td>0</td>\n",
              "      <td>0</td>\n",
              "      <td>0</td>\n",
              "      <td>0</td>\n",
              "      <td>0</td>\n",
              "      <td>0</td>\n",
              "      <td>0</td>\n",
              "      <td>0</td>\n",
              "      <td>0</td>\n",
              "      <td>0</td>\n",
              "    </tr>\n",
              "    <tr>\n",
              "      <td>35380</td>\n",
              "      <td>0</td>\n",
              "      <td>0</td>\n",
              "      <td>0</td>\n",
              "      <td>0</td>\n",
              "      <td>0</td>\n",
              "      <td>0</td>\n",
              "      <td>0</td>\n",
              "      <td>0</td>\n",
              "      <td>0</td>\n",
              "      <td>1</td>\n",
              "      <td>...</td>\n",
              "      <td>0</td>\n",
              "      <td>0</td>\n",
              "      <td>0</td>\n",
              "      <td>0</td>\n",
              "      <td>0</td>\n",
              "      <td>0</td>\n",
              "      <td>0</td>\n",
              "      <td>0</td>\n",
              "      <td>0</td>\n",
              "      <td>0</td>\n",
              "    </tr>\n",
              "    <tr>\n",
              "      <td>35381</td>\n",
              "      <td>0</td>\n",
              "      <td>0</td>\n",
              "      <td>0</td>\n",
              "      <td>0</td>\n",
              "      <td>0</td>\n",
              "      <td>0</td>\n",
              "      <td>0</td>\n",
              "      <td>0</td>\n",
              "      <td>0</td>\n",
              "      <td>1</td>\n",
              "      <td>...</td>\n",
              "      <td>0</td>\n",
              "      <td>0</td>\n",
              "      <td>0</td>\n",
              "      <td>0</td>\n",
              "      <td>0</td>\n",
              "      <td>0</td>\n",
              "      <td>0</td>\n",
              "      <td>0</td>\n",
              "      <td>0</td>\n",
              "      <td>0</td>\n",
              "    </tr>\n",
              "  </tbody>\n",
              "</table>\n",
              "<p>35382 rows × 144 columns</p>\n",
              "</div>"
            ],
            "text/plain": [
              "       category_가구  category_가전  category_건강기능  category_농수축  category_생활용품  \\\n",
              "0                0            0              0             0              0   \n",
              "1                0            0              0             0              0   \n",
              "2                0            0              0             0              0   \n",
              "3                0            0              0             0              0   \n",
              "4                0            0              0             0              0   \n",
              "...            ...          ...            ...           ...            ...   \n",
              "35377            0            0              0             0              0   \n",
              "35378            0            0              0             0              0   \n",
              "35379            0            0              0             0              0   \n",
              "35380            0            0              0             0              0   \n",
              "35381            0            0              0             0              0   \n",
              "\n",
              "       category_속옷  category_의류  category_이미용  category_잡화  category_주방  ...  \\\n",
              "0                0            1             0            0            0  ...   \n",
              "1                0            1             0            0            0  ...   \n",
              "2                0            1             0            0            0  ...   \n",
              "3                0            1             0            0            0  ...   \n",
              "4                0            1             0            0            0  ...   \n",
              "...            ...          ...           ...          ...          ...  ...   \n",
              "35377            0            0             0            0            1  ...   \n",
              "35378            0            0             0            0            1  ...   \n",
              "35379            0            0             0            0            1  ...   \n",
              "35380            0            0             0            0            1  ...   \n",
              "35381            0            0             0            0            1  ...   \n",
              "\n",
              "       sub_category_티셔츠  sub_category_패딩  sub_category_패치  sub_category_팬츠  \\\n",
              "0                     0                0                0                0   \n",
              "1                     0                0                0                0   \n",
              "2                     0                0                0                0   \n",
              "3                     0                0                0                0   \n",
              "4                     0                0                0                0   \n",
              "...                 ...              ...              ...              ...   \n",
              "35377                 0                0                0                0   \n",
              "35378                 0                0                0                0   \n",
              "35379                 0                0                0                0   \n",
              "35380                 0                0                0                0   \n",
              "35381                 0                0                0                0   \n",
              "\n",
              "       sub_category_프라이팬  sub_category_해산물  sub_category_행거  sub_category_헤어  \\\n",
              "0                      0                 0                0                0   \n",
              "1                      0                 0                0                0   \n",
              "2                      0                 0                0                0   \n",
              "3                      0                 0                0                0   \n",
              "4                      0                 0                0                0   \n",
              "...                  ...               ...              ...              ...   \n",
              "35377                  0                 0                0                0   \n",
              "35378                  0                 0                0                0   \n",
              "35379                  0                 0                0                0   \n",
              "35380                  0                 0                0                0   \n",
              "35381                  0                 0                0                0   \n",
              "\n",
              "       sub_category_혈압계  sub_category_히터  \n",
              "0                     0                0  \n",
              "1                     0                0  \n",
              "2                     0                0  \n",
              "3                     0                0  \n",
              "4                     0                0  \n",
              "...                 ...              ...  \n",
              "35377                 0                0  \n",
              "35378                 0                0  \n",
              "35379                 0                0  \n",
              "35380                 0                0  \n",
              "35381                 0                0  \n",
              "\n",
              "[35382 rows x 144 columns]"
            ]
          },
          "metadata": {
            "tags": []
          },
          "execution_count": 18
        }
      ]
    },
    {
      "cell_type": "code",
      "metadata": {
        "ExecuteTime": {
          "end_time": "2020-09-19T08:16:36.306580Z",
          "start_time": "2020-09-19T08:16:36.240196Z"
        },
        "id": "zaPFFQWrBaro",
        "colab_type": "code",
        "colab": {}
      },
      "source": [
        "# train : Join OHE dataframe and drop original feature columns\n",
        "tmp_train = tmp_train.join(ohe_tmp)\n",
        "tmp_train = tmp_train.drop(columns=['category' , 'season', 'dayofweek', 'payment',\n",
        "                                      'gender', 'sub_category'])"
      ],
      "execution_count": null,
      "outputs": []
    },
    {
      "cell_type": "code",
      "metadata": {
        "ExecuteTime": {
          "end_time": "2020-09-19T08:16:58.898814Z",
          "start_time": "2020-09-19T08:16:58.869528Z"
        },
        "id": "C15nZTZSBaru",
        "colab_type": "code",
        "colab": {},
        "outputId": "ba6407f8-f492-4a76-f8ef-909cb0b16dc9"
      },
      "source": [
        "# sanity check\n",
        "sum(tmp_train.isna().sum() != 0)"
      ],
      "execution_count": null,
      "outputs": [
        {
          "output_type": "execute_result",
          "data": {
            "text/plain": [
              "0"
            ]
          },
          "metadata": {
            "tags": []
          },
          "execution_count": 22
        }
      ]
    },
    {
      "cell_type": "code",
      "metadata": {
        "ExecuteTime": {
          "end_time": "2020-09-19T08:17:39.204843Z",
          "start_time": "2020-09-19T08:17:39.135303Z"
        },
        "id": "vKYOp0qbBar0",
        "colab_type": "code",
        "colab": {},
        "outputId": "c3c410f7-5f60-4231-9a94-7e3869d4e3d5"
      },
      "source": [
        "# ohe : test\n",
        "tmp_test.dayofweek = pd.Categorical(tmp_test.dayofweek)\n",
        "ohe_tmp = pd.get_dummies(tmp_test[['category' , 'season', 'dayofweek', 'payment', 'gender', 'sub_category']])\n",
        "ohe_tmp"
      ],
      "execution_count": null,
      "outputs": [
        {
          "output_type": "execute_result",
          "data": {
            "text/html": [
              "<div>\n",
              "<style scoped>\n",
              "    .dataframe tbody tr th:only-of-type {\n",
              "        vertical-align: middle;\n",
              "    }\n",
              "\n",
              "    .dataframe tbody tr th {\n",
              "        vertical-align: top;\n",
              "    }\n",
              "\n",
              "    .dataframe thead th {\n",
              "        text-align: right;\n",
              "    }\n",
              "</style>\n",
              "<table border=\"1\" class=\"dataframe\">\n",
              "  <thead>\n",
              "    <tr style=\"text-align: right;\">\n",
              "      <th></th>\n",
              "      <th>category_가구</th>\n",
              "      <th>category_가전</th>\n",
              "      <th>category_건강기능</th>\n",
              "      <th>category_농수축</th>\n",
              "      <th>category_생활용품</th>\n",
              "      <th>category_속옷</th>\n",
              "      <th>category_의류</th>\n",
              "      <th>category_이미용</th>\n",
              "      <th>category_잡화</th>\n",
              "      <th>category_주방</th>\n",
              "      <th>...</th>\n",
              "      <th>sub_category_커튼</th>\n",
              "      <th>sub_category_클렌징</th>\n",
              "      <th>sub_category_탁자</th>\n",
              "      <th>sub_category_탕</th>\n",
              "      <th>sub_category_티셔츠</th>\n",
              "      <th>sub_category_패치</th>\n",
              "      <th>sub_category_팬츠</th>\n",
              "      <th>sub_category_프라이팬</th>\n",
              "      <th>sub_category_해산물</th>\n",
              "      <th>sub_category_헤어</th>\n",
              "    </tr>\n",
              "  </thead>\n",
              "  <tbody>\n",
              "    <tr>\n",
              "      <td>0</td>\n",
              "      <td>0</td>\n",
              "      <td>0</td>\n",
              "      <td>0</td>\n",
              "      <td>0</td>\n",
              "      <td>0</td>\n",
              "      <td>0</td>\n",
              "      <td>1</td>\n",
              "      <td>0</td>\n",
              "      <td>0</td>\n",
              "      <td>0</td>\n",
              "      <td>...</td>\n",
              "      <td>0</td>\n",
              "      <td>0</td>\n",
              "      <td>0</td>\n",
              "      <td>0</td>\n",
              "      <td>0</td>\n",
              "      <td>0</td>\n",
              "      <td>0</td>\n",
              "      <td>0</td>\n",
              "      <td>0</td>\n",
              "      <td>0</td>\n",
              "    </tr>\n",
              "    <tr>\n",
              "      <td>1</td>\n",
              "      <td>0</td>\n",
              "      <td>0</td>\n",
              "      <td>0</td>\n",
              "      <td>0</td>\n",
              "      <td>0</td>\n",
              "      <td>0</td>\n",
              "      <td>1</td>\n",
              "      <td>0</td>\n",
              "      <td>0</td>\n",
              "      <td>0</td>\n",
              "      <td>...</td>\n",
              "      <td>0</td>\n",
              "      <td>0</td>\n",
              "      <td>0</td>\n",
              "      <td>0</td>\n",
              "      <td>0</td>\n",
              "      <td>0</td>\n",
              "      <td>0</td>\n",
              "      <td>0</td>\n",
              "      <td>0</td>\n",
              "      <td>0</td>\n",
              "    </tr>\n",
              "    <tr>\n",
              "      <td>2</td>\n",
              "      <td>0</td>\n",
              "      <td>0</td>\n",
              "      <td>0</td>\n",
              "      <td>0</td>\n",
              "      <td>0</td>\n",
              "      <td>0</td>\n",
              "      <td>1</td>\n",
              "      <td>0</td>\n",
              "      <td>0</td>\n",
              "      <td>0</td>\n",
              "      <td>...</td>\n",
              "      <td>0</td>\n",
              "      <td>0</td>\n",
              "      <td>0</td>\n",
              "      <td>0</td>\n",
              "      <td>0</td>\n",
              "      <td>0</td>\n",
              "      <td>0</td>\n",
              "      <td>0</td>\n",
              "      <td>0</td>\n",
              "      <td>0</td>\n",
              "    </tr>\n",
              "    <tr>\n",
              "      <td>3</td>\n",
              "      <td>0</td>\n",
              "      <td>0</td>\n",
              "      <td>0</td>\n",
              "      <td>0</td>\n",
              "      <td>0</td>\n",
              "      <td>1</td>\n",
              "      <td>0</td>\n",
              "      <td>0</td>\n",
              "      <td>0</td>\n",
              "      <td>0</td>\n",
              "      <td>...</td>\n",
              "      <td>0</td>\n",
              "      <td>0</td>\n",
              "      <td>0</td>\n",
              "      <td>0</td>\n",
              "      <td>0</td>\n",
              "      <td>0</td>\n",
              "      <td>0</td>\n",
              "      <td>0</td>\n",
              "      <td>0</td>\n",
              "      <td>0</td>\n",
              "    </tr>\n",
              "    <tr>\n",
              "      <td>4</td>\n",
              "      <td>0</td>\n",
              "      <td>0</td>\n",
              "      <td>0</td>\n",
              "      <td>0</td>\n",
              "      <td>0</td>\n",
              "      <td>1</td>\n",
              "      <td>0</td>\n",
              "      <td>0</td>\n",
              "      <td>0</td>\n",
              "      <td>0</td>\n",
              "      <td>...</td>\n",
              "      <td>0</td>\n",
              "      <td>0</td>\n",
              "      <td>0</td>\n",
              "      <td>0</td>\n",
              "      <td>0</td>\n",
              "      <td>0</td>\n",
              "      <td>0</td>\n",
              "      <td>0</td>\n",
              "      <td>0</td>\n",
              "      <td>0</td>\n",
              "    </tr>\n",
              "    <tr>\n",
              "      <td>...</td>\n",
              "      <td>...</td>\n",
              "      <td>...</td>\n",
              "      <td>...</td>\n",
              "      <td>...</td>\n",
              "      <td>...</td>\n",
              "      <td>...</td>\n",
              "      <td>...</td>\n",
              "      <td>...</td>\n",
              "      <td>...</td>\n",
              "      <td>...</td>\n",
              "      <td>...</td>\n",
              "      <td>...</td>\n",
              "      <td>...</td>\n",
              "      <td>...</td>\n",
              "      <td>...</td>\n",
              "      <td>...</td>\n",
              "      <td>...</td>\n",
              "      <td>...</td>\n",
              "      <td>...</td>\n",
              "      <td>...</td>\n",
              "      <td>...</td>\n",
              "    </tr>\n",
              "    <tr>\n",
              "      <td>2711</td>\n",
              "      <td>0</td>\n",
              "      <td>0</td>\n",
              "      <td>0</td>\n",
              "      <td>0</td>\n",
              "      <td>0</td>\n",
              "      <td>1</td>\n",
              "      <td>0</td>\n",
              "      <td>0</td>\n",
              "      <td>0</td>\n",
              "      <td>0</td>\n",
              "      <td>...</td>\n",
              "      <td>0</td>\n",
              "      <td>0</td>\n",
              "      <td>0</td>\n",
              "      <td>0</td>\n",
              "      <td>0</td>\n",
              "      <td>0</td>\n",
              "      <td>0</td>\n",
              "      <td>0</td>\n",
              "      <td>0</td>\n",
              "      <td>0</td>\n",
              "    </tr>\n",
              "    <tr>\n",
              "      <td>2712</td>\n",
              "      <td>0</td>\n",
              "      <td>0</td>\n",
              "      <td>0</td>\n",
              "      <td>0</td>\n",
              "      <td>0</td>\n",
              "      <td>1</td>\n",
              "      <td>0</td>\n",
              "      <td>0</td>\n",
              "      <td>0</td>\n",
              "      <td>0</td>\n",
              "      <td>...</td>\n",
              "      <td>0</td>\n",
              "      <td>0</td>\n",
              "      <td>0</td>\n",
              "      <td>0</td>\n",
              "      <td>0</td>\n",
              "      <td>0</td>\n",
              "      <td>0</td>\n",
              "      <td>0</td>\n",
              "      <td>0</td>\n",
              "      <td>0</td>\n",
              "    </tr>\n",
              "    <tr>\n",
              "      <td>2713</td>\n",
              "      <td>0</td>\n",
              "      <td>0</td>\n",
              "      <td>0</td>\n",
              "      <td>0</td>\n",
              "      <td>0</td>\n",
              "      <td>1</td>\n",
              "      <td>0</td>\n",
              "      <td>0</td>\n",
              "      <td>0</td>\n",
              "      <td>0</td>\n",
              "      <td>...</td>\n",
              "      <td>0</td>\n",
              "      <td>0</td>\n",
              "      <td>0</td>\n",
              "      <td>0</td>\n",
              "      <td>0</td>\n",
              "      <td>0</td>\n",
              "      <td>0</td>\n",
              "      <td>0</td>\n",
              "      <td>0</td>\n",
              "      <td>0</td>\n",
              "    </tr>\n",
              "    <tr>\n",
              "      <td>2714</td>\n",
              "      <td>0</td>\n",
              "      <td>0</td>\n",
              "      <td>0</td>\n",
              "      <td>0</td>\n",
              "      <td>0</td>\n",
              "      <td>0</td>\n",
              "      <td>1</td>\n",
              "      <td>0</td>\n",
              "      <td>0</td>\n",
              "      <td>0</td>\n",
              "      <td>...</td>\n",
              "      <td>0</td>\n",
              "      <td>0</td>\n",
              "      <td>0</td>\n",
              "      <td>0</td>\n",
              "      <td>1</td>\n",
              "      <td>0</td>\n",
              "      <td>0</td>\n",
              "      <td>0</td>\n",
              "      <td>0</td>\n",
              "      <td>0</td>\n",
              "    </tr>\n",
              "    <tr>\n",
              "      <td>2715</td>\n",
              "      <td>0</td>\n",
              "      <td>0</td>\n",
              "      <td>0</td>\n",
              "      <td>0</td>\n",
              "      <td>0</td>\n",
              "      <td>0</td>\n",
              "      <td>1</td>\n",
              "      <td>0</td>\n",
              "      <td>0</td>\n",
              "      <td>0</td>\n",
              "      <td>...</td>\n",
              "      <td>0</td>\n",
              "      <td>0</td>\n",
              "      <td>0</td>\n",
              "      <td>0</td>\n",
              "      <td>1</td>\n",
              "      <td>0</td>\n",
              "      <td>0</td>\n",
              "      <td>0</td>\n",
              "      <td>0</td>\n",
              "      <td>0</td>\n",
              "    </tr>\n",
              "  </tbody>\n",
              "</table>\n",
              "<p>2716 rows × 83 columns</p>\n",
              "</div>"
            ],
            "text/plain": [
              "      category_가구  category_가전  category_건강기능  category_농수축  category_생활용품  \\\n",
              "0               0            0              0             0              0   \n",
              "1               0            0              0             0              0   \n",
              "2               0            0              0             0              0   \n",
              "3               0            0              0             0              0   \n",
              "4               0            0              0             0              0   \n",
              "...           ...          ...            ...           ...            ...   \n",
              "2711            0            0              0             0              0   \n",
              "2712            0            0              0             0              0   \n",
              "2713            0            0              0             0              0   \n",
              "2714            0            0              0             0              0   \n",
              "2715            0            0              0             0              0   \n",
              "\n",
              "      category_속옷  category_의류  category_이미용  category_잡화  category_주방  ...  \\\n",
              "0               0            1             0            0            0  ...   \n",
              "1               0            1             0            0            0  ...   \n",
              "2               0            1             0            0            0  ...   \n",
              "3               1            0             0            0            0  ...   \n",
              "4               1            0             0            0            0  ...   \n",
              "...           ...          ...           ...          ...          ...  ...   \n",
              "2711            1            0             0            0            0  ...   \n",
              "2712            1            0             0            0            0  ...   \n",
              "2713            1            0             0            0            0  ...   \n",
              "2714            0            1             0            0            0  ...   \n",
              "2715            0            1             0            0            0  ...   \n",
              "\n",
              "      sub_category_커튼  sub_category_클렌징  sub_category_탁자  sub_category_탕  \\\n",
              "0                   0                 0                0               0   \n",
              "1                   0                 0                0               0   \n",
              "2                   0                 0                0               0   \n",
              "3                   0                 0                0               0   \n",
              "4                   0                 0                0               0   \n",
              "...               ...               ...              ...             ...   \n",
              "2711                0                 0                0               0   \n",
              "2712                0                 0                0               0   \n",
              "2713                0                 0                0               0   \n",
              "2714                0                 0                0               0   \n",
              "2715                0                 0                0               0   \n",
              "\n",
              "      sub_category_티셔츠  sub_category_패치  sub_category_팬츠  sub_category_프라이팬  \\\n",
              "0                    0                0                0                  0   \n",
              "1                    0                0                0                  0   \n",
              "2                    0                0                0                  0   \n",
              "3                    0                0                0                  0   \n",
              "4                    0                0                0                  0   \n",
              "...                ...              ...              ...                ...   \n",
              "2711                 0                0                0                  0   \n",
              "2712                 0                0                0                  0   \n",
              "2713                 0                0                0                  0   \n",
              "2714                 1                0                0                  0   \n",
              "2715                 1                0                0                  0   \n",
              "\n",
              "      sub_category_해산물  sub_category_헤어  \n",
              "0                    0                0  \n",
              "1                    0                0  \n",
              "2                    0                0  \n",
              "3                    0                0  \n",
              "4                    0                0  \n",
              "...                ...              ...  \n",
              "2711                 0                0  \n",
              "2712                 0                0  \n",
              "2713                 0                0  \n",
              "2714                 0                0  \n",
              "2715                 0                0  \n",
              "\n",
              "[2716 rows x 83 columns]"
            ]
          },
          "metadata": {
            "tags": []
          },
          "execution_count": 23
        }
      ]
    },
    {
      "cell_type": "code",
      "metadata": {
        "ExecuteTime": {
          "end_time": "2020-09-19T08:19:08.505673Z",
          "start_time": "2020-09-19T08:19:08.494399Z"
        },
        "id": "KcO34YgtBar6",
        "colab_type": "code",
        "colab": {},
        "outputId": "153062e2-0480-4d41-da73-de084a71b04b"
      },
      "source": [
        "# 문제ㅠㅠㅠ\n",
        "# sub_category가 58개 차이나고 season도 평가데이터에는 한 개라서 스케일링 했을 때 칼럼 수 차이남..\n",
        "# 근데 이건 모델링이랑 병행하면서 수정해도 될듯\n",
        "# MAPE 구하려면 train 데이터 validation set으로 쪼개서 봐야하니까 당장엔 test data로 평가하지 않아도 되긴 함\n",
        "print(train['sub_category'].nunique())\n",
        "print(test['sub_category'].nunique())"
      ],
      "execution_count": null,
      "outputs": [
        {
          "output_type": "stream",
          "text": [
            "118\n",
            "60\n"
          ],
          "name": "stdout"
        }
      ]
    },
    {
      "cell_type": "code",
      "metadata": {
        "id": "cJVWoRCOBasA",
        "colab_type": "code",
        "colab": {}
      },
      "source": [
        "mms=MinMaxScaler()\n",
        "tmp_train[[\"min_temp\", \"max_temp\",\"precipitation\"]] = mms.fit_transform(train[[\"min_temp\", \"max_temp\",\"precipitation\"]])\n",
        "#test에는 implement 안했다길래..\n",
        "#tmp_test[[\"min_temp\", \"max_temp\",\"precipitation\"]] = mms.fit_transform(test[[\"min_temp\", \"max_temp\",\"precipitation\"]])"
      ],
      "execution_count": null,
      "outputs": []
    },
    {
      "cell_type": "markdown",
      "metadata": {
        "id": "1fZdt2MEBasG",
        "colab_type": "text"
      },
      "source": [
        "# Train-Validation set split"
      ]
    },
    {
      "cell_type": "code",
      "metadata": {
        "ExecuteTime": {
          "end_time": "2020-09-19T08:26:51.662404Z",
          "start_time": "2020-09-19T08:26:51.616423Z"
        },
        "id": "72hqrBXnBasH",
        "colab_type": "code",
        "colab": {},
        "outputId": "c3197ac8-b408-47e7-9aff-bd3c072964f1"
      },
      "source": [
        "x_train, x_val, y_train, y_val = train_test_split(tmp_train, train[response], test_size=0.3)\n",
        "print(x_train.shape)\n",
        "print(x_val.shape)"
      ],
      "execution_count": null,
      "outputs": [
        {
          "output_type": "stream",
          "text": [
            "(24767, 157)\n",
            "(10615, 157)\n"
          ],
          "name": "stdout"
        }
      ]
    },
    {
      "cell_type": "code",
      "metadata": {
        "ExecuteTime": {
          "end_time": "2020-09-19T08:26:55.528189Z",
          "start_time": "2020-09-19T08:26:55.521574Z"
        },
        "id": "z4xzGR0hBasO",
        "colab_type": "code",
        "colab": {}
      },
      "source": [
        "x_test = tmp_test\n",
        "y_test = test[response]"
      ],
      "execution_count": null,
      "outputs": []
    },
    {
      "cell_type": "code",
      "metadata": {
        "ExecuteTime": {
          "end_time": "2020-09-19T08:27:52.371594Z",
          "start_time": "2020-09-19T08:27:52.322396Z"
        },
        "id": "tS_jE9Z_BasW",
        "colab_type": "code",
        "colab": {},
        "outputId": "1e670890-9260-4599-a5e7-4b8032918f0b"
      },
      "source": [
        "sum(tmp_train.isna().sum() != 0)"
      ],
      "execution_count": null,
      "outputs": [
        {
          "output_type": "execute_result",
          "data": {
            "text/plain": [
              "0"
            ]
          },
          "metadata": {
            "tags": []
          },
          "execution_count": 29
        }
      ]
    },
    {
      "cell_type": "markdown",
      "metadata": {
        "id": "xlepQfovBasd",
        "colab_type": "text"
      },
      "source": [
        "# Modeling  "
      ]
    },
    {
      "cell_type": "code",
      "metadata": {
        "ExecuteTime": {
          "end_time": "2020-09-19T08:28:22.148724Z",
          "start_time": "2020-09-19T08:28:22.142723Z"
        },
        "id": "-ey1L59uBase",
        "colab_type": "code",
        "colab": {}
      },
      "source": [
        "# RandomForestRegressor\n",
        "from sklearn.ensemble import RandomForestRegressor\n",
        "forest = RandomForestRegressor(random_state=1)"
      ],
      "execution_count": null,
      "outputs": []
    },
    {
      "cell_type": "code",
      "metadata": {
        "ExecuteTime": {
          "end_time": "2020-09-19T08:28:52.094056Z",
          "start_time": "2020-09-19T08:28:23.683345Z"
        },
        "id": "ylwC9OPIBasj",
        "colab_type": "code",
        "colab": {},
        "outputId": "d6f5ade4-45c6-49b3-e5e6-5442411e0f23"
      },
      "source": [
        "# HyperParameter 조정 해보기 (Bayesian Optimizer)\n",
        "forest.fit(x_train, y_train)"
      ],
      "execution_count": null,
      "outputs": [
        {
          "output_type": "execute_result",
          "data": {
            "text/plain": [
              "RandomForestRegressor(random_state=1)"
            ]
          },
          "metadata": {
            "tags": []
          },
          "execution_count": 32
        }
      ]
    },
    {
      "cell_type": "code",
      "metadata": {
        "ExecuteTime": {
          "end_time": "2020-09-19T08:28:56.882672Z",
          "start_time": "2020-09-19T08:28:56.451324Z"
        },
        "id": "tGpTAl4oBasp",
        "colab_type": "code",
        "colab": {}
      },
      "source": [
        "pred = forest.predict(x_val)"
      ],
      "execution_count": null,
      "outputs": []
    },
    {
      "cell_type": "code",
      "metadata": {
        "ExecuteTime": {
          "end_time": "2020-09-19T08:28:58.057500Z",
          "start_time": "2020-09-19T08:28:57.996565Z"
        },
        "id": "ioZnifU4Basv",
        "colab_type": "code",
        "colab": {},
        "outputId": "4f439270-13bc-480c-ae6e-a49bc1f159d5"
      },
      "source": [
        "# Sanity check for 0 division\n",
        "sum(pred == 0)\n",
        "sum(y_test == 0)"
      ],
      "execution_count": null,
      "outputs": [
        {
          "output_type": "execute_result",
          "data": {
            "text/plain": [
              "0"
            ]
          },
          "metadata": {
            "tags": []
          },
          "execution_count": 34
        }
      ]
    },
    {
      "cell_type": "code",
      "metadata": {
        "ExecuteTime": {
          "end_time": "2020-09-19T08:29:36.819397Z",
          "start_time": "2020-09-19T08:29:36.807989Z"
        },
        "id": "RiM7JsQsBas1",
        "colab_type": "code",
        "colab": {},
        "outputId": "ed142522-a0a5-414b-cf61-3a123c9f606b"
      },
      "source": [
        "mape = mean_absolute_percentage_error(y_val, pred)\n",
        "print('MAPE :', mape)\n",
        "# 각 경우와 MAPE 기록하는거 잊지 말기!"
      ],
      "execution_count": null,
      "outputs": [
        {
          "output_type": "stream",
          "text": [
            "MAPE : 89.30569795689081\n"
          ],
          "name": "stdout"
        }
      ]
    },
    {
      "cell_type": "code",
      "metadata": {
        "id": "AzZSSXikBas7",
        "colab_type": "code",
        "colab": {}
      },
      "source": [
        ""
      ],
      "execution_count": null,
      "outputs": []
    }
  ]
}